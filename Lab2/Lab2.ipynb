{
  "cells": [
    {
      "cell_type": "markdown",
      "metadata": {
        "id": "view-in-github",
        "colab_type": "text"
      },
      "source": [
        "<a href=\"https://colab.research.google.com/github/JuanXo375/AlgorithmsUN2023I/blob/main/Lab2/Lab2.ipynb\" target=\"_parent\"><img src=\"https://colab.research.google.com/assets/colab-badge.svg\" alt=\"Open In Colab\"/></a>"
      ]
    },
    {
      "cell_type": "code",
      "execution_count": 1,
      "metadata": {
        "autoscroll": false,
        "ein.tags": "worksheet-0",
        "id": "FrAt48DtiXb-",
        "outputId": "050575a0-fcb9-46c3-c19b-0d26754b76d9",
        "colab": {
          "base_uri": "https://localhost:8080/",
          "height": 367
        }
      },
      "outputs": [
        {
          "output_type": "stream",
          "name": "stdout",
          "text": [
            "Looking in indexes: https://pypi.org/simple, https://us-python.pkg.dev/colab-wheels/public/simple/\n",
            "Requirement already satisfied: fortran-magic in /usr/local/lib/python3.8/dist-packages (0.7)\n",
            "Requirement already satisfied: numpy in /usr/local/lib/python3.8/dist-packages (from fortran-magic) (1.22.4)\n",
            "Requirement already satisfied: ipython in /usr/local/lib/python3.8/dist-packages (from fortran-magic) (7.9.0)\n",
            "Requirement already satisfied: traitlets>=4.2 in /usr/local/lib/python3.8/dist-packages (from ipython->fortran-magic) (5.7.1)\n",
            "Requirement already satisfied: backcall in /usr/local/lib/python3.8/dist-packages (from ipython->fortran-magic) (0.2.0)\n",
            "Requirement already satisfied: setuptools>=18.5 in /usr/local/lib/python3.8/dist-packages (from ipython->fortran-magic) (57.4.0)\n",
            "Requirement already satisfied: prompt-toolkit<2.1.0,>=2.0.0 in /usr/local/lib/python3.8/dist-packages (from ipython->fortran-magic) (2.0.10)\n",
            "Requirement already satisfied: decorator in /usr/local/lib/python3.8/dist-packages (from ipython->fortran-magic) (4.4.2)\n",
            "Requirement already satisfied: pygments in /usr/local/lib/python3.8/dist-packages (from ipython->fortran-magic) (2.6.1)\n",
            "Requirement already satisfied: pexpect in /usr/local/lib/python3.8/dist-packages (from ipython->fortran-magic) (4.8.0)\n",
            "Requirement already satisfied: jedi>=0.10 in /usr/local/lib/python3.8/dist-packages (from ipython->fortran-magic) (0.18.2)\n",
            "Requirement already satisfied: pickleshare in /usr/local/lib/python3.8/dist-packages (from ipython->fortran-magic) (0.7.5)\n",
            "Requirement already satisfied: parso<0.9.0,>=0.8.0 in /usr/local/lib/python3.8/dist-packages (from jedi>=0.10->ipython->fortran-magic) (0.8.3)\n",
            "Requirement already satisfied: wcwidth in /usr/local/lib/python3.8/dist-packages (from prompt-toolkit<2.1.0,>=2.0.0->ipython->fortran-magic) (0.2.6)\n",
            "Requirement already satisfied: six>=1.9.0 in /usr/local/lib/python3.8/dist-packages (from prompt-toolkit<2.1.0,>=2.0.0->ipython->fortran-magic) (1.15.0)\n",
            "Requirement already satisfied: ptyprocess>=0.5 in /usr/local/lib/python3.8/dist-packages (from pexpect->ipython->fortran-magic) (0.7.0)\n"
          ]
        },
        {
          "output_type": "stream",
          "name": "stderr",
          "text": [
            "/usr/local/lib/python3.8/dist-packages/fortranmagic.py:147: UserWarning: get_ipython_cache_dir has moved to the IPython.paths module since IPython 4.0.\n",
            "  self._lib_dir = os.path.join(get_ipython_cache_dir(), 'fortran')\n"
          ]
        },
        {
          "output_type": "display_data",
          "data": {
            "application/javascript": [
              "new Promise(function(resolve, reject) {\n",
              "\tvar script = document.createElement(\"script\");\n",
              "\tscript.onload = resolve;\n",
              "\tscript.onerror = reject;\n",
              "\tscript.src = \"https://raw.github.com/marijnh/CodeMirror/master/mode/fortran/fortran.js\";\n",
              "\tdocument.head.appendChild(script);\n",
              "}).then(() => {\n",
              "IPython.config.cell_magic_highlight['magic_fortran'] = {'reg':[/^%%fortran/]};\n",
              "});"
            ]
          },
          "metadata": {}
        }
      ],
      "source": [
        "%matplotlib inline\n",
        "!pip install -U fortran-magic\n",
        "%load_ext fortranmagic\n",
        "\n",
        "import sys; sys.path.append('..')\n",
        "\n",
        "import pandas as pd\n",
        "import numpy as np\n",
        "import matplotlib as mpl\n",
        "import matplotlib.pyplot as plt\n",
        "import seaborn as sns\n",
        "\n",
        "mpl.rc('figure', figsize=(12, 7))\n",
        "\n",
        "ran_the_first_cell = True\n",
        "\n",
        "jan2017 = pd.to_datetime(['2017-01-03 00:00:00+00:00',\n",
        " '2017-01-04 00:00:00+00:00',\n",
        " '2017-01-05 00:00:00+00:00',\n",
        " '2017-01-06 00:00:00+00:00',\n",
        " '2017-01-09 00:00:00+00:00',\n",
        " '2017-01-10 00:00:00+00:00',\n",
        " '2017-01-11 00:00:00+00:00',\n",
        " '2017-01-12 00:00:00+00:00',\n",
        " '2017-01-13 00:00:00+00:00',\n",
        " '2017-01-17 00:00:00+00:00',\n",
        " '2017-01-18 00:00:00+00:00',\n",
        " '2017-01-19 00:00:00+00:00',\n",
        " '2017-01-20 00:00:00+00:00',\n",
        " '2017-01-23 00:00:00+00:00',\n",
        " '2017-01-24 00:00:00+00:00',\n",
        " '2017-01-25 00:00:00+00:00',\n",
        " '2017-01-26 00:00:00+00:00',\n",
        " '2017-01-27 00:00:00+00:00',\n",
        " '2017-01-30 00:00:00+00:00',\n",
        " '2017-01-31 00:00:00+00:00',\n",
        " '2017-02-01 00:00:00+00:00'])\n",
        "calendar = jan2017.values.astype('datetime64[D]')\n",
        "\n",
        "event_dates = pd.to_datetime(['2017-01-06 00:00:00+00:00', \n",
        "                             '2017-01-07 00:00:00+00:00', \n",
        "                             '2017-01-08 00:00:00+00:00']).values.astype('datetime64[D]')\n",
        "event_values = np.array([10, 15, 20])"
      ]
    },
    {
      "cell_type": "markdown",
      "metadata": {
        "ein.tags": "worksheet-0",
        "id": "lHm410FBiXcC"
      },
      "source": [
        "<center>\n",
        "  <h1>The PyData Toolbox</h1>\n",
        "  <h3>Scott Sanderson (Twitter: @scottbsanderson, GitHub: ssanderson)</h3>\n",
        "  <h3><a href=\"https://github.com/ssanderson/pydata-toolbox\">https://github.com/ssanderson/pydata-toolbox</a></h3>\n",
        "</center>"
      ]
    },
    {
      "cell_type": "markdown",
      "metadata": {
        "collapsed": true,
        "ein.tags": "worksheet-0",
        "id": "0CXHsFMBiXcD"
      },
      "source": [
        "# About Me:\n",
        "\n",
        "<img src=\"https://raw.githubusercontent.com/ssanderson/pydata-toolbox/master/notebooks/images/me.jpg\" alt=\"Drawing\" style=\"width: 300px;\"/>\n",
        "\n",
        "- Senior Engineer at [Quantopian](www.quantopian.com)\n",
        "- Background in Mathematics and Philosophy\n",
        "- **Twitter:** [@scottbsanderson](https://twitter.com/scottbsanderson)\n",
        "- **GitHub:** [ssanderson](github.com/ssanderson)"
      ]
    },
    {
      "cell_type": "markdown",
      "metadata": {
        "id": "tcOO-3C8iXcE"
      },
      "source": [
        "## Outline\n",
        "\n",
        "- Built-in Data Structures\n",
        "- Numpy `array`\n",
        "- Pandas `Series`/`DataFrame`\n",
        "- Plotting and \"Real-World\" Analyses"
      ]
    },
    {
      "cell_type": "markdown",
      "metadata": {
        "id": "qGj-c9CliXcE"
      },
      "source": [
        "# Data Structures"
      ]
    },
    {
      "cell_type": "markdown",
      "metadata": {
        "id": "Nsn-QHmCiXcF"
      },
      "source": [
        "> Rule 5. Data dominates. If you've chosen the right data structures and organized things well, the algorithms\n",
        "will almost always be self-evident. Data structures, not algorithms, are central to programming.\n",
        "\n",
        "- *Notes on Programming in C*, by Rob Pike."
      ]
    },
    {
      "cell_type": "markdown",
      "metadata": {
        "id": "_yhFg_rXiXcF"
      },
      "source": [
        "# Lists"
      ]
    },
    {
      "cell_type": "code",
      "execution_count": 3,
      "metadata": {
        "collapsed": true,
        "id": "97QvmzbqiXcG"
      },
      "outputs": [],
      "source": [
        "assert ran_the_first_cell, \"Oh noes!\""
      ]
    },
    {
      "cell_type": "code",
      "execution_count": 4,
      "metadata": {
        "id": "nhIZgNXLiXcG",
        "outputId": "5147bba0-3730-4d81-9c0f-e81caeb24efb",
        "colab": {
          "base_uri": "https://localhost:8080/"
        }
      },
      "outputs": [
        {
          "output_type": "execute_result",
          "data": {
            "text/plain": [
              "[1, 'two', 3.0, 4, 5.0, 'six']"
            ]
          },
          "metadata": {},
          "execution_count": 4
        }
      ],
      "source": [
        "l = [1, 'two', 3.0, 4, 5.0, \"six\"]\n",
        "l"
      ]
    },
    {
      "cell_type": "code",
      "execution_count": 5,
      "metadata": {
        "id": "Cjj8bfDAiXcH",
        "outputId": "ed53cb98-f59f-4829-bc46-fc0e9ab158b4",
        "colab": {
          "base_uri": "https://localhost:8080/"
        }
      },
      "outputs": [
        {
          "output_type": "stream",
          "name": "stdout",
          "text": [
            "first: 1\n",
            "second: two\n"
          ]
        }
      ],
      "source": [
        "# Lists can be indexed like C-style arrays.\n",
        "first = l[0]\n",
        "second = l[1]\n",
        "print(\"first:\", first)\n",
        "print(\"second:\", second)"
      ]
    },
    {
      "cell_type": "code",
      "execution_count": 6,
      "metadata": {
        "id": "cVozluPbiXcH",
        "outputId": "09b16baf-c631-4fdd-f524-92d554f09b30",
        "colab": {
          "base_uri": "https://localhost:8080/"
        }
      },
      "outputs": [
        {
          "output_type": "stream",
          "name": "stdout",
          "text": [
            "last: six\n",
            "second to last: 5.0\n"
          ]
        }
      ],
      "source": [
        "# Negative indexing gives elements relative to the end of the list.\n",
        "last = l[-1]\n",
        "penultimate = l[-2]\n",
        "print(\"last:\", last)\n",
        "print(\"second to last:\", penultimate)"
      ]
    },
    {
      "cell_type": "code",
      "execution_count": 7,
      "metadata": {
        "id": "PTqqm8MeiXcI",
        "outputId": "c745215f-fbb8-4afa-e5ab-d3d54f1689fc",
        "colab": {
          "base_uri": "https://localhost:8080/"
        }
      },
      "outputs": [
        {
          "output_type": "execute_result",
          "data": {
            "text/plain": [
              "['two', 3.0]"
            ]
          },
          "metadata": {},
          "execution_count": 7
        }
      ],
      "source": [
        "# Lists can also be sliced, which makes a copy of elements between \n",
        "# start (inclusive) and stop (exclusive)\n",
        "sublist = l[1:3]\n",
        "sublist"
      ]
    },
    {
      "cell_type": "code",
      "execution_count": 8,
      "metadata": {
        "id": "ugUUXXUViXcI",
        "outputId": "cc5eacc4-cb4e-4b46-d127-666a7ed29bb2",
        "colab": {
          "base_uri": "https://localhost:8080/"
        }
      },
      "outputs": [
        {
          "output_type": "execute_result",
          "data": {
            "text/plain": [
              "[1, 'two', 3.0]"
            ]
          },
          "metadata": {},
          "execution_count": 8
        }
      ],
      "source": [
        "# l[:N] is equivalent to l[0:N].\n",
        "first_three = l[:3]\n",
        "first_three"
      ]
    },
    {
      "cell_type": "code",
      "execution_count": 9,
      "metadata": {
        "id": "otoRjbK7iXcI",
        "outputId": "d2f07da8-e304-4ba7-900f-1202a4469c2b",
        "colab": {
          "base_uri": "https://localhost:8080/"
        }
      },
      "outputs": [
        {
          "output_type": "execute_result",
          "data": {
            "text/plain": [
              "[4, 5.0, 'six']"
            ]
          },
          "metadata": {},
          "execution_count": 9
        }
      ],
      "source": [
        "# l[3:] is equivalent to l[3:len(l)].\n",
        "after_three = l[3:]\n",
        "after_three"
      ]
    },
    {
      "cell_type": "code",
      "execution_count": 10,
      "metadata": {
        "id": "2ZndPPspiXcJ",
        "outputId": "5d0eb082-9f47-4868-8a7b-70c3247e3bf0",
        "colab": {
          "base_uri": "https://localhost:8080/"
        }
      },
      "outputs": [
        {
          "output_type": "execute_result",
          "data": {
            "text/plain": [
              "['b', 'd', 'f']"
            ]
          },
          "metadata": {},
          "execution_count": 10
        }
      ],
      "source": [
        "# There's also a third parameter, \"step\", which gets every Nth element.\n",
        "l = ['a', 'b', 'c', 'd', 'e', 'f', 'g','h']\n",
        "l[1:7:2]"
      ]
    },
    {
      "cell_type": "code",
      "execution_count": 11,
      "metadata": {
        "id": "dt2OMhnZiXcJ",
        "outputId": "07c981ea-e6b2-489e-cec7-24fd3e3d0b27",
        "colab": {
          "base_uri": "https://localhost:8080/"
        }
      },
      "outputs": [
        {
          "output_type": "execute_result",
          "data": {
            "text/plain": [
              "['h', 'g', 'f', 'e', 'd', 'c', 'b', 'a']"
            ]
          },
          "metadata": {},
          "execution_count": 11
        }
      ],
      "source": [
        "# This is a cute way to reverse a list.\n",
        "l[::-1]"
      ]
    },
    {
      "cell_type": "code",
      "execution_count": 12,
      "metadata": {
        "id": "uDIdawFwiXcJ",
        "outputId": "e2c09948-2137-4b3e-a729-8b2d876a33e4",
        "colab": {
          "base_uri": "https://localhost:8080/"
        }
      },
      "outputs": [
        {
          "output_type": "stream",
          "name": "stdout",
          "text": [
            "Before: [1, 2, 3, 4, 5]\n",
            "After: [1, 2, 3, 4, 5, 'six']\n"
          ]
        }
      ],
      "source": [
        "# Lists can be grown efficiently (in O(1) amortized time).\n",
        "l = [1, 2, 3, 4, 5]\n",
        "print(\"Before:\", l)\n",
        "l.append('six')\n",
        "print(\"After:\", l)"
      ]
    },
    {
      "cell_type": "code",
      "execution_count": 13,
      "metadata": {
        "id": "OIhO0xxUiXcK",
        "outputId": "8c33b9fd-5c8f-47e2-f1ed-07c22576ea2e",
        "colab": {
          "base_uri": "https://localhost:8080/"
        }
      },
      "outputs": [
        {
          "output_type": "execute_result",
          "data": {
            "text/plain": [
              "[2, 4, 6, 8, 10]"
            ]
          },
          "metadata": {},
          "execution_count": 13
        }
      ],
      "source": [
        "# Comprehensions let us perform elementwise computations.\n",
        "l = [1, 2, 3, 4, 5]\n",
        "[x * 2 for x in l]"
      ]
    },
    {
      "cell_type": "markdown",
      "metadata": {
        "ein.tags": "worksheet-0",
        "id": "gh1Uw4KtiXcK"
      },
      "source": [
        "## Review: Python Lists\n",
        "\n",
        "- Zero-indexed sequence of arbitrary Python values.\n",
        "- Slicing syntax: `l[start:stop:step]` copies elements at regular intervals from `start` to `stop`.\n",
        "- Efficient (`O(1)`) appends and removes from end.\n",
        "- Comprehension syntax: `[f(x) for x in l if cond(x)]`."
      ]
    },
    {
      "cell_type": "markdown",
      "metadata": {
        "id": "KPeFQQs5iXcK"
      },
      "source": [
        "# Dictionaries"
      ]
    },
    {
      "cell_type": "code",
      "execution_count": 14,
      "metadata": {
        "id": "55GAxN3AiXcL",
        "outputId": "85d3436d-279f-48e5-c661-ad058d4387ca",
        "colab": {
          "base_uri": "https://localhost:8080/"
        }
      },
      "outputs": [
        {
          "output_type": "execute_result",
          "data": {
            "text/plain": [
              "{'David': 'Hume', 'Immanuel': 'Kant', 'Bertrand': 'Russell'}"
            ]
          },
          "metadata": {},
          "execution_count": 14
        }
      ],
      "source": [
        "# Dictionaries are key-value mappings.\n",
        "philosophers = {'David': 'Hume', 'Immanuel': 'Kant', 'Bertrand': 'Russell'}\n",
        "philosophers"
      ]
    },
    {
      "cell_type": "code",
      "execution_count": 15,
      "metadata": {
        "id": "V3JS2kHSiXcL",
        "outputId": "c553283e-b2db-4c3d-fa14-30e3ea6cddbd",
        "colab": {
          "base_uri": "https://localhost:8080/"
        }
      },
      "outputs": [
        {
          "output_type": "execute_result",
          "data": {
            "text/plain": [
              "{'David': 'Hume',\n",
              " 'Immanuel': 'Kant',\n",
              " 'Bertrand': 'Russell',\n",
              " 'Ludwig': 'Wittgenstein'}"
            ]
          },
          "metadata": {},
          "execution_count": 15
        }
      ],
      "source": [
        "# Like lists, dictionaries are size-mutable.\n",
        "philosophers['Ludwig'] = 'Wittgenstein'\n",
        "philosophers"
      ]
    },
    {
      "cell_type": "code",
      "execution_count": 16,
      "metadata": {
        "id": "YRGePTociXcL",
        "outputId": "b3a01443-fc7a-4dfa-8145-7ff9954b3891",
        "colab": {
          "base_uri": "https://localhost:8080/"
        }
      },
      "outputs": [
        {
          "output_type": "execute_result",
          "data": {
            "text/plain": [
              "{'Immanuel': 'Kant', 'Bertrand': 'Russell', 'Ludwig': 'Wittgenstein'}"
            ]
          },
          "metadata": {},
          "execution_count": 16
        }
      ],
      "source": [
        "del philosophers['David']\n",
        "philosophers"
      ]
    },
    {
      "cell_type": "code",
      "execution_count": 17,
      "metadata": {
        "id": "2E4f_6pQiXcM",
        "outputId": "4b8d25c7-03a5-4755-b200-5f066d1377bb",
        "colab": {
          "base_uri": "https://localhost:8080/",
          "height": 182
        }
      },
      "outputs": [
        {
          "output_type": "error",
          "ename": "TypeError",
          "evalue": "ignored",
          "traceback": [
            "\u001b[0;31m---------------------------------------------------------------------------\u001b[0m",
            "\u001b[0;31mTypeError\u001b[0m                                 Traceback (most recent call last)",
            "\u001b[0;32m<ipython-input-17-042d882bd6b0>\u001b[0m in \u001b[0;36m<module>\u001b[0;34m\u001b[0m\n\u001b[1;32m      1\u001b[0m \u001b[0;31m# No slicing.\u001b[0m\u001b[0;34m\u001b[0m\u001b[0;34m\u001b[0m\u001b[0;34m\u001b[0m\u001b[0m\n\u001b[0;32m----> 2\u001b[0;31m \u001b[0mphilosophers\u001b[0m\u001b[0;34m[\u001b[0m\u001b[0;34m'Bertrand'\u001b[0m\u001b[0;34m:\u001b[0m\u001b[0;34m'Immanuel'\u001b[0m\u001b[0;34m]\u001b[0m\u001b[0;34m\u001b[0m\u001b[0;34m\u001b[0m\u001b[0m\n\u001b[0m",
            "\u001b[0;31mTypeError\u001b[0m: unhashable type: 'slice'"
          ]
        }
      ],
      "source": [
        "# No slicing.\n",
        "philosophers['Bertrand':'Immanuel']"
      ]
    },
    {
      "cell_type": "markdown",
      "metadata": {
        "ein.tags": "worksheet-0",
        "id": "xvN8eqK2iXcM"
      },
      "source": [
        "## Review: Python Dictionaries\n",
        "\n",
        "- Unordered key-value mapping from (almost) arbitrary keys to arbitrary values.\n",
        "- Efficient (`O(1)`) lookup, insertion, and deletion.\n",
        "- No slicing (would require a notion of order)."
      ]
    },
    {
      "cell_type": "markdown",
      "metadata": {
        "id": "3C9gwhYDiXcM"
      },
      "source": [
        "<center><img src=\"https://raw.githubusercontent.com/ssanderson/pydata-toolbox/master/notebooks/images/pacino.gif\" alt=\"Drawing\" style=\"width: 100%;\"/></center>\n"
      ]
    },
    {
      "cell_type": "code",
      "execution_count": 18,
      "metadata": {
        "collapsed": true,
        "id": "eqFZgJyyiXcM"
      },
      "outputs": [],
      "source": [
        "# Suppose we have some matrices...\n",
        "a = [[1, 2, 3],\n",
        "     [2, 3, 4],\n",
        "     [5, 6, 7],\n",
        "     [1, 1, 1]]\n",
        "\n",
        "b = [[1, 2, 3, 4],\n",
        "     [2, 3, 4, 5]]"
      ]
    },
    {
      "cell_type": "code",
      "execution_count": 19,
      "metadata": {
        "collapsed": true,
        "id": "TfFqABAMiXcM"
      },
      "outputs": [],
      "source": [
        "def matmul(A, B):\n",
        "    \"\"\"Multiply matrix A by matrix B.\"\"\"\n",
        "    rows_out = len(A)\n",
        "    cols_out = len(B[0])\n",
        "    out = [[0 for col in range(cols_out)] for row in range(rows_out)]\n",
        "    \n",
        "    for i in range(rows_out):\n",
        "        for j in range(cols_out):\n",
        "            for k in range(len(B)):\n",
        "                out[i][j] += A[i][k] * B[k][j]\n",
        "    return out"
      ]
    },
    {
      "cell_type": "markdown",
      "metadata": {
        "id": "Yuee_jmYiXcN"
      },
      "source": [
        "<center><img src=\"https://raw.githubusercontent.com/ssanderson/pydata-toolbox/master/notebooks/images/gross.gif\" alt=\"Drawing\" style=\"width: 50%;\"/></center>\n"
      ]
    },
    {
      "cell_type": "code",
      "execution_count": 20,
      "metadata": {
        "id": "PerN-NDRiXcN",
        "outputId": "d48f9052-6340-416e-d11a-8fbe4109a0bf",
        "colab": {
          "base_uri": "https://localhost:8080/"
        }
      },
      "outputs": [
        {
          "output_type": "stream",
          "name": "stdout",
          "text": [
            "CPU times: user 30 µs, sys: 4 µs, total: 34 µs\n",
            "Wall time: 38.9 µs\n"
          ]
        },
        {
          "output_type": "execute_result",
          "data": {
            "text/plain": [
              "[[5, 8, 11, 14], [8, 13, 18, 23], [17, 28, 39, 50], [3, 5, 7, 9]]"
            ]
          },
          "metadata": {},
          "execution_count": 20
        }
      ],
      "source": [
        "%%time\n",
        "\n",
        "matmul(a, b)"
      ]
    },
    {
      "cell_type": "markdown",
      "source": [
        "**My own example 0 - cpu info**"
      ],
      "metadata": {
        "id": "AAcF7qrOv8KF"
      }
    },
    {
      "cell_type": "code",
      "source": [
        "!cat /proc/cpuinfo"
      ],
      "metadata": {
        "id": "BQl1PQDJwDkc",
        "outputId": "447b1ce3-21bf-4062-91bb-5509756e1184",
        "colab": {
          "base_uri": "https://localhost:8080/"
        }
      },
      "execution_count": 21,
      "outputs": [
        {
          "output_type": "stream",
          "name": "stdout",
          "text": [
            "processor\t: 0\n",
            "vendor_id\t: GenuineIntel\n",
            "cpu family\t: 6\n",
            "model\t\t: 79\n",
            "model name\t: Intel(R) Xeon(R) CPU @ 2.20GHz\n",
            "stepping\t: 0\n",
            "microcode\t: 0xffffffff\n",
            "cpu MHz\t\t: 2200.154\n",
            "cache size\t: 56320 KB\n",
            "physical id\t: 0\n",
            "siblings\t: 2\n",
            "core id\t\t: 0\n",
            "cpu cores\t: 1\n",
            "apicid\t\t: 0\n",
            "initial apicid\t: 0\n",
            "fpu\t\t: yes\n",
            "fpu_exception\t: yes\n",
            "cpuid level\t: 13\n",
            "wp\t\t: yes\n",
            "flags\t\t: fpu vme de pse tsc msr pae mce cx8 apic sep mtrr pge mca cmov pat pse36 clflush mmx fxsr sse sse2 ss ht syscall nx pdpe1gb rdtscp lm constant_tsc rep_good nopl xtopology nonstop_tsc cpuid tsc_known_freq pni pclmulqdq ssse3 fma cx16 pcid sse4_1 sse4_2 x2apic movbe popcnt aes xsave avx f16c rdrand hypervisor lahf_lm abm 3dnowprefetch invpcid_single ssbd ibrs ibpb stibp fsgsbase tsc_adjust bmi1 hle avx2 smep bmi2 erms invpcid rtm rdseed adx smap xsaveopt arat md_clear arch_capabilities\n",
            "bugs\t\t: cpu_meltdown spectre_v1 spectre_v2 spec_store_bypass l1tf mds swapgs taa mmio_stale_data retbleed\n",
            "bogomips\t: 4400.30\n",
            "clflush size\t: 64\n",
            "cache_alignment\t: 64\n",
            "address sizes\t: 46 bits physical, 48 bits virtual\n",
            "power management:\n",
            "\n",
            "processor\t: 1\n",
            "vendor_id\t: GenuineIntel\n",
            "cpu family\t: 6\n",
            "model\t\t: 79\n",
            "model name\t: Intel(R) Xeon(R) CPU @ 2.20GHz\n",
            "stepping\t: 0\n",
            "microcode\t: 0xffffffff\n",
            "cpu MHz\t\t: 2200.154\n",
            "cache size\t: 56320 KB\n",
            "physical id\t: 0\n",
            "siblings\t: 2\n",
            "core id\t\t: 0\n",
            "cpu cores\t: 1\n",
            "apicid\t\t: 1\n",
            "initial apicid\t: 1\n",
            "fpu\t\t: yes\n",
            "fpu_exception\t: yes\n",
            "cpuid level\t: 13\n",
            "wp\t\t: yes\n",
            "flags\t\t: fpu vme de pse tsc msr pae mce cx8 apic sep mtrr pge mca cmov pat pse36 clflush mmx fxsr sse sse2 ss ht syscall nx pdpe1gb rdtscp lm constant_tsc rep_good nopl xtopology nonstop_tsc cpuid tsc_known_freq pni pclmulqdq ssse3 fma cx16 pcid sse4_1 sse4_2 x2apic movbe popcnt aes xsave avx f16c rdrand hypervisor lahf_lm abm 3dnowprefetch invpcid_single ssbd ibrs ibpb stibp fsgsbase tsc_adjust bmi1 hle avx2 smep bmi2 erms invpcid rtm rdseed adx smap xsaveopt arat md_clear arch_capabilities\n",
            "bugs\t\t: cpu_meltdown spectre_v1 spectre_v2 spec_store_bypass l1tf mds swapgs taa mmio_stale_data retbleed\n",
            "bogomips\t: 4400.30\n",
            "clflush size\t: 64\n",
            "cache_alignment\t: 64\n",
            "address sizes\t: 46 bits physical, 48 bits virtual\n",
            "power management:\n",
            "\n"
          ]
        }
      ]
    },
    {
      "cell_type": "markdown",
      "source": [
        "**My own example 1 - Changing in matmul(A, B) Python len(B) (# of rows of B) for len(A[0]) (# of columns of A)**"
      ],
      "metadata": {
        "id": "EFlf_ZLgsUEo"
      }
    },
    {
      "cell_type": "code",
      "source": [
        "def matmul(A, B):\n",
        "    \"\"\"Multiply matrix A by matrix B.\"\"\"\n",
        "    rows_out = len(B)\n",
        "    cols_out = len(A[0])\n",
        "    out = [[0 for col in range(cols_out)] for row in range(rows_out)]\n",
        "    \n",
        "    for i in range(rows_out):\n",
        "        for j in range(cols_out):\n",
        "            for k in range(len(A)):\n",
        "                out[i][j] += B[i][k] * A[k][j]\n",
        "    return out"
      ],
      "metadata": {
        "id": "T71BRNaG3fev"
      },
      "execution_count": 22,
      "outputs": []
    },
    {
      "cell_type": "markdown",
      "source": [
        "**My own example 2 - Verifiying error with in matmul(A, B) Python with the original matrices when changing len(B) (# of rows of B) for len(A[0]) (# of colums of A)**"
      ],
      "metadata": {
        "id": "8sLiMfvlUJzp"
      }
    },
    {
      "cell_type": "code",
      "source": [
        "matmul(a,b)"
      ],
      "metadata": {
        "id": "HjyOAFQW3gc3",
        "colab": {
          "base_uri": "https://localhost:8080/"
        },
        "outputId": "b85aeeaf-3683-4dee-e40d-9c284ea9b32e"
      },
      "execution_count": 23,
      "outputs": [
        {
          "output_type": "execute_result",
          "data": {
            "text/plain": [
              "[[24, 30, 36], [33, 42, 51]]"
            ]
          },
          "metadata": {},
          "execution_count": 23
        }
      ]
    },
    {
      "cell_type": "markdown",
      "source": [
        "**My own example 3 - Chekcing the mtarix multiplication compatibility condition  len(A[0]) == len(B)**"
      ],
      "metadata": {
        "id": "AGztFKBNuQ_e"
      }
    },
    {
      "cell_type": "code",
      "source": [
        "def matmul(A, B):\n",
        "    \"\"\"Multiply matrix A by matrix B.\"\"\"\n",
        "    rows_out = len(A)\n",
        "    cols_out = len(B[0])\n",
        "    if(len(A[0])!=len(B)):\n",
        "      return \"Error compatibility matriz.\"\n",
        "    out = [[0 for col in range(cols_out)] for row in range(rows_out)]\n",
        "    \n",
        "    for i in range(rows_out):\n",
        "        for j in range(cols_out):\n",
        "            for k in range(len(B)):\n",
        "                out[i][j] += A[i][k] * B[k][j]\n",
        "    return out"
      ],
      "metadata": {
        "id": "4rgHkUNC3haX"
      },
      "execution_count": 2,
      "outputs": []
    },
    {
      "cell_type": "markdown",
      "source": [
        "**My own example 4 -  Verifiying error with in matmul(A, B) Python when checking the mtarix multiplication compatibility condition  len(A[0]) == len(B)**"
      ],
      "metadata": {
        "id": "A4SoDNPpuZpp"
      }
    },
    {
      "cell_type": "code",
      "source": [
        "matmul(a,b)"
      ],
      "metadata": {
        "id": "wpnd21c83jQI",
        "colab": {
          "base_uri": "https://localhost:8080/",
          "height": 36
        },
        "outputId": "06d048a0-8aca-42cb-b2a9-2c395387a5db"
      },
      "execution_count": 25,
      "outputs": [
        {
          "output_type": "execute_result",
          "data": {
            "text/plain": [
              "'Error compatibility matriz.'"
            ],
            "application/vnd.google.colaboratory.intrinsic+json": {
              "type": "string"
            }
          },
          "metadata": {},
          "execution_count": 25
        }
      ]
    },
    {
      "cell_type": "markdown",
      "source": [
        "**My own example 5 - Deifining A and B that are compatiible for multiplcation**"
      ],
      "metadata": {
        "id": "MZTTYVu0ufCY"
      }
    },
    {
      "cell_type": "code",
      "source": [
        "a = [[1, 2, 3, 4],\n",
        "     [2, 3, 4, 5]]\n",
        "\n",
        "b = [[1, 2, 3],\n",
        "     [2, 3, 4],\n",
        "     [5, 6, 7],\n",
        "     [1, 1, 1]]"
      ],
      "metadata": {
        "id": "q8nHrWQz3kby"
      },
      "execution_count": 3,
      "outputs": []
    },
    {
      "cell_type": "markdown",
      "source": [
        "**My own example 6 - Runinng the correct Python matrix multiplication code with the matrices with dimensions compatible for multiplication.**"
      ],
      "metadata": {
        "id": "GM5DAXUIuhEg"
      }
    },
    {
      "cell_type": "code",
      "source": [
        "import random"
      ],
      "metadata": {
        "id": "Ip600JFN3qHX"
      },
      "execution_count": 4,
      "outputs": []
    },
    {
      "cell_type": "code",
      "source": [
        "random.normalvariate(0,1)"
      ],
      "metadata": {
        "colab": {
          "base_uri": "https://localhost:8080/"
        },
        "id": "HuDvpWbBkup-",
        "outputId": "55c9380c-629b-4752-b5ae-e4a402663d27"
      },
      "execution_count": 28,
      "outputs": [
        {
          "output_type": "execute_result",
          "data": {
            "text/plain": [
              "1.574554186637668"
            ]
          },
          "metadata": {},
          "execution_count": 28
        }
      ]
    },
    {
      "cell_type": "code",
      "execution_count": 5,
      "metadata": {
        "outputId": "0f121f9f-fabe-4541-d386-2112f37033db",
        "colab": {
          "base_uri": "https://localhost:8080/"
        },
        "id": "X1tnwMvd3bIP"
      },
      "outputs": [
        {
          "output_type": "execute_result",
          "data": {
            "text/plain": [
              "[[0.3370083653920918, 0.7858172236525, 0.06790719124589184],\n",
              " [0.9826672547146863, 0.581583373482674, 0.26832782136143174]]"
            ]
          },
          "metadata": {},
          "execution_count": 5
        }
      ],
      "source": [
        "import random\n",
        "def random_matrix(m, n):\n",
        "    out = []\n",
        "    for row in range(m):\n",
        "        out.append([random.random() for _ in range(n)])\n",
        "    return out\n",
        "\n",
        "randm = random_matrix(2, 3)\n",
        "randm"
      ]
    },
    {
      "cell_type": "markdown",
      "source": [
        "**My own example 7 - Running 10 times matmul(randa, randb) with randa and randb a randon matrices of 600 x 100 and 100 x 600 and calulating the average execution time**"
      ],
      "metadata": {
        "id": "3-eUeNjHhHP7"
      }
    },
    {
      "cell_type": "code",
      "source": [
        "import time\n",
        "\n",
        "tiempos = []\n",
        "\n",
        "for i in range(10):\n",
        "  inicio = time.time()\n",
        "  matmul(random_matrix(600,100),random_matrix(100,600))\n",
        "  fin= time.time()\n",
        "  dif = fin - inicio\n",
        "  tiempos.append(dif)\n",
        "\n",
        "prom = sum(tiempos) / len(tiempos)\n",
        "print(prom)"
      ],
      "metadata": {
        "id": "M-e3aEaU37_H",
        "colab": {
          "base_uri": "https://localhost:8080/"
        },
        "outputId": "b5034e22-7007-4bc8-a57e-337ac121e789"
      },
      "execution_count": 6,
      "outputs": [
        {
          "output_type": "stream",
          "name": "stdout",
          "text": [
            "12.471080660820007\n"
          ]
        }
      ]
    },
    {
      "cell_type": "markdown",
      "source": [
        "**My own example 8 - Creating the average execution time data frame and adding Python's average execution time**"
      ],
      "metadata": {
        "id": "FXisJPNSN-Tf"
      }
    },
    {
      "cell_type": "code",
      "source": [
        "dic = {'Languages':['Phyton'],'Average Secs':[prom]}\n",
        "\n",
        "df = pd.DataFrame(dic)\n"
      ],
      "metadata": {
        "id": "2fK25g003-ww"
      },
      "execution_count": 7,
      "outputs": []
    },
    {
      "cell_type": "markdown",
      "source": [
        "**My own example 9 - Running 10 times randa and randb mutiplicaction as NumPy arrays  adding NumPy's average execution time**"
      ],
      "metadata": {
        "id": "OiFYD3tghLcL"
      }
    },
    {
      "cell_type": "code",
      "source": [
        "%%time\n",
        "\n",
        "np.random.seed(0)\n",
        "for i in range(10):\n",
        "  randa = np.array(random_matrix(600, 100))\n",
        "  randb = np.array(random_matrix(100, 600))\n",
        "  matmul(randa,randb)"
      ],
      "metadata": {
        "id": "bHX4icJx5KZo",
        "colab": {
          "base_uri": "https://localhost:8080/"
        },
        "outputId": "be26ab9c-1a1d-4ad2-951e-458ad09bdc03"
      },
      "execution_count": 32,
      "outputs": [
        {
          "output_type": "stream",
          "name": "stdout",
          "text": [
            "CPU times: user 5min 10s, sys: 614 ms, total: 5min 11s\n",
            "Wall time: 5min 13s\n"
          ]
        }
      ]
    },
    {
      "cell_type": "code",
      "execution_count": 33,
      "metadata": {
        "scrolled": true,
        "id": "M5czoKckiXcN",
        "outputId": "81fb54eb-77d0-48f5-dca8-8e6afe012a1a",
        "colab": {
          "base_uri": "https://localhost:8080/"
        }
      },
      "outputs": [
        {
          "output_type": "stream",
          "name": "stdout",
          "text": [
            "CPU times: user 11 s, sys: 23 ms, total: 11 s\n",
            "Wall time: 11.1 s\n"
          ]
        }
      ],
      "source": [
        "%%time\n",
        "randa = random_matrix(600, 100)\n",
        "randb = random_matrix(100, 600)\n",
        "x = matmul(randa, randb)"
      ]
    },
    {
      "cell_type": "code",
      "execution_count": 37,
      "metadata": {
        "collapsed": true,
        "id": "hXy_q4S8iXcN"
      },
      "outputs": [],
      "source": [
        "# Maybe that's not that bad?  Let's try a simpler case.\n",
        "def python_dot_product(xs, ys):\n",
        "    return sum(x * y for x, y in zip(xs, ys))"
      ]
    },
    {
      "cell_type": "code",
      "execution_count": 36,
      "metadata": {
        "collapsed": true,
        "id": "qylqVrbqiXcO"
      },
      "outputs": [],
      "source": [
        "%%fortran\n",
        "subroutine fortran_dot_product(xs, ys, result)\n",
        "    double precision, intent(in) :: xs(:)\n",
        "    double precision, intent(in) :: ys(:)\n",
        "    double precision, intent(out) :: result\n",
        "    \n",
        "    result = sum(xs * ys)\n",
        "end"
      ]
    },
    {
      "cell_type": "code",
      "execution_count": 38,
      "metadata": {
        "collapsed": true,
        "id": "BGacVDX-iXcO"
      },
      "outputs": [],
      "source": [
        "list_data = [float(i) for i in range(100000)]\n",
        "array_data = np.array(list_data)"
      ]
    },
    {
      "cell_type": "code",
      "execution_count": 39,
      "metadata": {
        "id": "aaZPRE4aiXcO",
        "outputId": "5c13840a-cb47-420c-fe63-328c3f84b0a0",
        "colab": {
          "base_uri": "https://localhost:8080/"
        }
      },
      "outputs": [
        {
          "output_type": "stream",
          "name": "stdout",
          "text": [
            "CPU times: user 16.8 ms, sys: 0 ns, total: 16.8 ms\n",
            "Wall time: 19.8 ms\n"
          ]
        },
        {
          "output_type": "execute_result",
          "data": {
            "text/plain": [
              "333328333350000.0"
            ]
          },
          "metadata": {},
          "execution_count": 39
        }
      ],
      "source": [
        "%%time\n",
        "python_dot_product(list_data, list_data)"
      ]
    },
    {
      "cell_type": "code",
      "execution_count": 40,
      "metadata": {
        "id": "e9tNvTwLiXcO",
        "outputId": "7608a8b0-dccf-4f08-fe82-89bd67a45bc5",
        "colab": {
          "base_uri": "https://localhost:8080/"
        }
      },
      "outputs": [
        {
          "output_type": "stream",
          "name": "stdout",
          "text": [
            "CPU times: user 252 µs, sys: 4 µs, total: 256 µs\n",
            "Wall time: 270 µs\n"
          ]
        },
        {
          "output_type": "execute_result",
          "data": {
            "text/plain": [
              "333328333350000.0"
            ]
          },
          "metadata": {},
          "execution_count": 40
        }
      ],
      "source": [
        "%%time\n",
        "fortran_dot_product(array_data, array_data)"
      ]
    },
    {
      "cell_type": "markdown",
      "metadata": {
        "id": "qW-_Q7yuiXcO"
      },
      "source": [
        "<center><img src=\"https://raw.githubusercontent.com/ssanderson/pydata-toolbox/master/notebooks/images/sloth.gif\" alt=\"Drawing\" style=\"width: 1080px;\"/></center>\n"
      ]
    },
    {
      "cell_type": "markdown",
      "source": [
        "**My own example 10 - Deifining A (2x2)  and B (2x2)**\n",
        "\n"
      ],
      "metadata": {
        "id": "y37MLCQ4PQd3"
      }
    },
    {
      "cell_type": "code",
      "source": [
        "%%writefile tmpf.f\n",
        "subroutine matmul(A, B, C)\n",
        "    real*8, dimension(600,100) :: A, B\n",
        "    real*8, dimension(600,600) :: C\n",
        "    integer :: i, j, k\n",
        "    \n",
        "    call random_seed() ! inicializar la semilla del generador de números aleatorios\n",
        "    call random_number(A) ! llenar la matriz A con números aleatorios entre 0 y 1\n",
        "    call random_number(B) ! llenar la matriz B con números aleatorios entre 0 y 1\n",
        "    \n",
        "    do i=1,600\n",
        "        do j=1,600\n",
        "            C(i,j) = 0.0d0\n",
        "            do k=1,100\n",
        "                C(i,j) = C(i,j) + A(i,k) * B(k,j)\n",
        "            end do\n",
        "        end do\n",
        "    end do\n",
        "    \n",
        "end subroutine matmul\n",
        "\n",
        "\n",
        "program main\n",
        "    integer :: i\n",
        "    real*8, dimension(600,100) :: A, B\n",
        "    real*8, dimension(600,600) :: C\n",
        "    real*8 :: start_time, end_time, total_time\n",
        "    \n",
        "    do i=0,11\n",
        "        call cpu_time(start_time) ! registrar el tiempo de inicio de la multiplicación\n",
        "        call matmul(A, B, C) ! llamar a la subrutina matmul para multiplicar las matrices\n",
        "        call cpu_time(end_time) ! registrar el tiempo de fin de la multiplicación\n",
        "        total_time = end_time - start_time ! calcular el tiempo total de la multiplicación\n",
        "        write(*,*) \"Tiempo de ejecución de la multiplicación \", i, \": \", total_time, \" segundos.\"\n",
        "    end do\n",
        "    \n",
        "end program main"
      ],
      "metadata": {
        "id": "7i0uJGD0v105",
        "outputId": "ac471427-dd7e-4c89-9b49-e118ef5fa333",
        "colab": {
          "base_uri": "https://localhost:8080/"
        }
      },
      "execution_count": 39,
      "outputs": [
        {
          "output_type": "stream",
          "name": "stdout",
          "text": [
            "Writing tmpf.f\n"
          ]
        }
      ]
    },
    {
      "cell_type": "code",
      "source": [
        "!gfortran tmpf.f -o tmpf\n",
        "!./tmpf"
      ],
      "metadata": {
        "id": "zxyj8lB6uoGt"
      },
      "execution_count": null,
      "outputs": []
    },
    {
      "cell_type": "markdown",
      "source": [
        "**My own example 11 - Defining Fortran subroutine matmul(A,B) for 2x2 matrices**"
      ],
      "metadata": {
        "id": "nuV59KXQPipC"
      }
    },
    {
      "cell_type": "code",
      "source": [],
      "metadata": {
        "id": "faG3DgEHyyoP"
      },
      "execution_count": 40,
      "outputs": []
    },
    {
      "cell_type": "markdown",
      "source": [
        "**My own example 12 -Run Fortran subroutine matmul(A,B) with a and b 2x2 matrices**"
      ],
      "metadata": {
        "id": "zU1RmmstRPd4"
      }
    },
    {
      "cell_type": "code",
      "source": [],
      "metadata": {
        "id": "LTcNJB4L6wwX"
      },
      "execution_count": 40,
      "outputs": []
    },
    {
      "cell_type": "markdown",
      "source": [
        "**My own example 13 - Defining Fortran subroutine matmul(A,B) for 600x100 and 100x600 matrices**"
      ],
      "metadata": {
        "id": "_ra5WDYERX1e"
      }
    },
    {
      "cell_type": "code",
      "source": [],
      "metadata": {
        "id": "4mDURPVKkBDD"
      },
      "execution_count": 40,
      "outputs": []
    },
    {
      "cell_type": "markdown",
      "source": [
        "**My own example 14 -Run Fortran subroutine matmul(A,B) with 600x100 and 100x600 matrices**"
      ],
      "metadata": {
        "id": "cf5NwQZQRjx-"
      }
    },
    {
      "cell_type": "code",
      "source": [],
      "metadata": {
        "id": "S7xtJkrb6yuQ"
      },
      "execution_count": 40,
      "outputs": []
    },
    {
      "cell_type": "markdown",
      "source": [
        "**My own example 15 - Running 10 times the  Fortran subroutine matmul(A,B) with 600x100 and 100x600 matrices and adding Fortran magic average execution time to the data frame**"
      ],
      "metadata": {
        "id": "5yjoH7W_R0E3"
      }
    },
    {
      "cell_type": "code",
      "source": [],
      "metadata": {
        "id": "2-A0QOte603A"
      },
      "execution_count": 40,
      "outputs": []
    },
    {
      "cell_type": "markdown",
      "source": [
        "**My own example 16 - Creating a  Fortran program that mutiplies 10 times A(600x100) and  B (100x600) matrices**"
      ],
      "metadata": {
        "id": "w5hURiGOShpG"
      }
    },
    {
      "cell_type": "code",
      "source": [],
      "metadata": {
        "id": "xCkI1njo62Hv"
      },
      "execution_count": 40,
      "outputs": []
    },
    {
      "cell_type": "markdown",
      "source": [
        "**My own example 17 - Running the Fortran program that mutiplies 10 times A(600x100) and  B (100x600) matrices**"
      ],
      "metadata": {
        "id": "LJOrD7hyYmTJ"
      }
    },
    {
      "cell_type": "code",
      "source": [],
      "metadata": {
        "id": "hmBeCMGV63z6"
      },
      "execution_count": 40,
      "outputs": []
    },
    {
      "cell_type": "markdown",
      "source": [
        "\n",
        "**My own example 18 - Adding Fortran average execution time to the data frame**"
      ],
      "metadata": {
        "id": "21wSmo50YfIo"
      }
    },
    {
      "cell_type": "code",
      "source": [
        "nuevo_elemento = pd.DataFrame({'Languages': 'Fortran', 'Average Secs': }, index=[1])\n",
        "\n",
        "df = pd.concat([df, nuevo_elemento])\n",
        "\n",
        "df"
      ],
      "metadata": {
        "id": "UDMgoacS642X",
        "outputId": "c4acbe99-28a7-493d-dfbd-62ab1d6ee2c6",
        "colab": {
          "base_uri": "https://localhost:8080/",
          "height": 130
        }
      },
      "execution_count": 41,
      "outputs": [
        {
          "output_type": "error",
          "ename": "SyntaxError",
          "evalue": "ignored",
          "traceback": [
            "\u001b[0;36m  File \u001b[0;32m\"<ipython-input-41-4f0783291b35>\"\u001b[0;36m, line \u001b[0;32m1\u001b[0m\n\u001b[0;31m    nuevo_elemento = pd.DataFrame({'Languages': 'Fortran', 'Average Secs': }, index=[1])\u001b[0m\n\u001b[0m                                                                           ^\u001b[0m\n\u001b[0;31mSyntaxError\u001b[0m\u001b[0;31m:\u001b[0m invalid syntax\n"
          ]
        }
      ]
    },
    {
      "cell_type": "markdown",
      "source": [
        "**My own example 19 - Creating a c program that mutiplies 10 times A(600x100) and  B (100x600) matrices**"
      ],
      "metadata": {
        "id": "8G8ZZ2hfZXYA"
      }
    },
    {
      "cell_type": "code",
      "source": [
        "%%writefile tmpc.c\n",
        "#define N 600\n",
        "#include <stdio.h>\n",
        "#include <stdlib.h>\n",
        "#include <time.h>\n",
        "void crear_matriz(int A[N][N], int filas, int columnas);\n",
        "void escribir_matriz(int A[N][N], int filas, int columnas);\n",
        "void multiplicar(int A[N][N], int B[N][N],int C[N][N]);\n",
        "void test();\n",
        "void  test()\n",
        "{\n",
        " int m, n, p;\n",
        " int A[N][N], B[N][N], C[N][N];\n",
        " m = 600;\n",
        " n = 100;\n",
        " crear_matriz(A, m, n);\n",
        " p = 600;\n",
        " crear_matriz(B, n, p);\n",
        " multiplicar(A, B, C);\n",
        " return;\n",
        "}\n",
        "void crear_matriz(int A[N][N], int filas, int columnas)\n",
        "{\n",
        " int i, j;\n",
        " for (i=0; i<filas; i++)\n",
        " {\n",
        "  for (j=0; j<columnas; j++)\n",
        "  {\n",
        "   A[i][j] = rand() % 100;\n",
        "  }\n",
        " }\n",
        " return;\n",
        "}\n",
        "void escribir_matriz(int A[N][N], int filas, int columnas)\n",
        "{\n",
        " for (int i=0; i<600; i++)\n",
        " {\n",
        "  for (int j=0; j<600; j++)\n",
        "  {\n",
        "   printf(\"\\t%d\", A[i][j]);\n",
        "  }\n",
        "  printf(\"\\n\");\n",
        " }\n",
        " return;\n",
        "}\n",
        "void multiplicar(int A[N][N], int B[N][N], int C[N][N])\n",
        "{\n",
        " int i, j, k;\n",
        " for(i=0; i<600; i++)\n",
        "  for(k=0; k<600; k++)\n",
        "   C[i][k]=0;\n",
        "   \n",
        " for (i=0; i<600; i++)\n",
        "  for (j=0; j<600; j++)\n",
        "   for (k=0; k<100; k++)\n",
        "    C[i][k] = C[i][k] + A[i][j]*B[j][k];\n",
        "}\n",
        "int main(){\n",
        "    double time_spent = 0.0;\n",
        "    double times[10];\n",
        "    \n",
        "    int i;\n",
        "    for(i=0;i<10;i++){\n",
        "        clock_t begin = clock();\n",
        "        test();\n",
        "        clock_t end = clock();\n",
        "        time_spent += (double)(end - begin) / CLOCKS_PER_SEC;\n",
        "        times[i] = time_spent;\n",
        "    }\n",
        "    \n",
        "    double prom = 0;\n",
        "    for(i=0;i<10;i++){\n",
        "        prom += times[i];\n",
        "    }\n",
        "    prom = prom/10;\n",
        "    printf(\"\\t%f\",prom);\n",
        "}"
      ],
      "metadata": {
        "id": "BknrT-KK65wP",
        "outputId": "5588812b-4f18-4fd9-ca03-9737aefd5d28",
        "colab": {
          "base_uri": "https://localhost:8080/"
        }
      },
      "execution_count": 8,
      "outputs": [
        {
          "output_type": "stream",
          "name": "stdout",
          "text": [
            "Overwriting tmpc.c\n"
          ]
        }
      ]
    },
    {
      "cell_type": "markdown",
      "source": [
        "**My own example 20 - Running the c program that mutiplies 10 times A(600x100) and  B (100x600) matrices**"
      ],
      "metadata": {
        "id": "i-oPlTweZndB"
      }
    },
    {
      "cell_type": "code",
      "source": [
        "!gcc tmpc.c -o tmpc\n",
        "!./tmpc"
      ],
      "metadata": {
        "id": "CKFgaMTa67Ri",
        "outputId": "abb2c21b-7fbc-47bf-b0f4-9cf7565f833d",
        "colab": {
          "base_uri": "https://localhost:8080/"
        }
      },
      "execution_count": 9,
      "outputs": [
        {
          "output_type": "stream",
          "name": "stdout",
          "text": [
            "\t0.874454"
          ]
        }
      ]
    },
    {
      "cell_type": "markdown",
      "source": [
        "**My own example 21 - Adding c average execution time to the data frame**"
      ],
      "metadata": {
        "id": "U9Wf-9DPZ3R4"
      }
    },
    {
      "cell_type": "code",
      "source": [
        "nuevo_elemento = pd.DataFrame({'Languages': 'C', 'Average Secs': 0.874454}, index=[2])\n",
        "\n",
        "df = pd.concat([df, nuevo_elemento])\n",
        "\n",
        "df"
      ],
      "metadata": {
        "id": "EQTETcvCCcWe",
        "outputId": "adf44bb9-ed00-4524-e17c-278d88262857",
        "colab": {
          "base_uri": "https://localhost:8080/",
          "height": 143
        }
      },
      "execution_count": 11,
      "outputs": [
        {
          "output_type": "execute_result",
          "data": {
            "text/plain": [
              "  Languages  Average Secs\n",
              "0    Phyton     12.471081\n",
              "2         C     12.471081\n",
              "2         C      0.874454"
            ],
            "text/html": [
              "\n",
              "  <div id=\"df-0b2fb3bf-5d72-4902-bff4-560430a47403\">\n",
              "    <div class=\"colab-df-container\">\n",
              "      <div>\n",
              "<style scoped>\n",
              "    .dataframe tbody tr th:only-of-type {\n",
              "        vertical-align: middle;\n",
              "    }\n",
              "\n",
              "    .dataframe tbody tr th {\n",
              "        vertical-align: top;\n",
              "    }\n",
              "\n",
              "    .dataframe thead th {\n",
              "        text-align: right;\n",
              "    }\n",
              "</style>\n",
              "<table border=\"1\" class=\"dataframe\">\n",
              "  <thead>\n",
              "    <tr style=\"text-align: right;\">\n",
              "      <th></th>\n",
              "      <th>Languages</th>\n",
              "      <th>Average Secs</th>\n",
              "    </tr>\n",
              "  </thead>\n",
              "  <tbody>\n",
              "    <tr>\n",
              "      <th>0</th>\n",
              "      <td>Phyton</td>\n",
              "      <td>12.471081</td>\n",
              "    </tr>\n",
              "    <tr>\n",
              "      <th>2</th>\n",
              "      <td>C</td>\n",
              "      <td>12.471081</td>\n",
              "    </tr>\n",
              "    <tr>\n",
              "      <th>2</th>\n",
              "      <td>C</td>\n",
              "      <td>0.874454</td>\n",
              "    </tr>\n",
              "  </tbody>\n",
              "</table>\n",
              "</div>\n",
              "      <button class=\"colab-df-convert\" onclick=\"convertToInteractive('df-0b2fb3bf-5d72-4902-bff4-560430a47403')\"\n",
              "              title=\"Convert this dataframe to an interactive table.\"\n",
              "              style=\"display:none;\">\n",
              "        \n",
              "  <svg xmlns=\"http://www.w3.org/2000/svg\" height=\"24px\"viewBox=\"0 0 24 24\"\n",
              "       width=\"24px\">\n",
              "    <path d=\"M0 0h24v24H0V0z\" fill=\"none\"/>\n",
              "    <path d=\"M18.56 5.44l.94 2.06.94-2.06 2.06-.94-2.06-.94-.94-2.06-.94 2.06-2.06.94zm-11 1L8.5 8.5l.94-2.06 2.06-.94-2.06-.94L8.5 2.5l-.94 2.06-2.06.94zm10 10l.94 2.06.94-2.06 2.06-.94-2.06-.94-.94-2.06-.94 2.06-2.06.94z\"/><path d=\"M17.41 7.96l-1.37-1.37c-.4-.4-.92-.59-1.43-.59-.52 0-1.04.2-1.43.59L10.3 9.45l-7.72 7.72c-.78.78-.78 2.05 0 2.83L4 21.41c.39.39.9.59 1.41.59.51 0 1.02-.2 1.41-.59l7.78-7.78 2.81-2.81c.8-.78.8-2.07 0-2.86zM5.41 20L4 18.59l7.72-7.72 1.47 1.35L5.41 20z\"/>\n",
              "  </svg>\n",
              "      </button>\n",
              "      \n",
              "  <style>\n",
              "    .colab-df-container {\n",
              "      display:flex;\n",
              "      flex-wrap:wrap;\n",
              "      gap: 12px;\n",
              "    }\n",
              "\n",
              "    .colab-df-convert {\n",
              "      background-color: #E8F0FE;\n",
              "      border: none;\n",
              "      border-radius: 50%;\n",
              "      cursor: pointer;\n",
              "      display: none;\n",
              "      fill: #1967D2;\n",
              "      height: 32px;\n",
              "      padding: 0 0 0 0;\n",
              "      width: 32px;\n",
              "    }\n",
              "\n",
              "    .colab-df-convert:hover {\n",
              "      background-color: #E2EBFA;\n",
              "      box-shadow: 0px 1px 2px rgba(60, 64, 67, 0.3), 0px 1px 3px 1px rgba(60, 64, 67, 0.15);\n",
              "      fill: #174EA6;\n",
              "    }\n",
              "\n",
              "    [theme=dark] .colab-df-convert {\n",
              "      background-color: #3B4455;\n",
              "      fill: #D2E3FC;\n",
              "    }\n",
              "\n",
              "    [theme=dark] .colab-df-convert:hover {\n",
              "      background-color: #434B5C;\n",
              "      box-shadow: 0px 1px 3px 1px rgba(0, 0, 0, 0.15);\n",
              "      filter: drop-shadow(0px 1px 2px rgba(0, 0, 0, 0.3));\n",
              "      fill: #FFFFFF;\n",
              "    }\n",
              "  </style>\n",
              "\n",
              "      <script>\n",
              "        const buttonEl =\n",
              "          document.querySelector('#df-0b2fb3bf-5d72-4902-bff4-560430a47403 button.colab-df-convert');\n",
              "        buttonEl.style.display =\n",
              "          google.colab.kernel.accessAllowed ? 'block' : 'none';\n",
              "\n",
              "        async function convertToInteractive(key) {\n",
              "          const element = document.querySelector('#df-0b2fb3bf-5d72-4902-bff4-560430a47403');\n",
              "          const dataTable =\n",
              "            await google.colab.kernel.invokeFunction('convertToInteractive',\n",
              "                                                     [key], {});\n",
              "          if (!dataTable) return;\n",
              "\n",
              "          const docLinkHtml = 'Like what you see? Visit the ' +\n",
              "            '<a target=\"_blank\" href=https://colab.research.google.com/notebooks/data_table.ipynb>data table notebook</a>'\n",
              "            + ' to learn more about interactive tables.';\n",
              "          element.innerHTML = '';\n",
              "          dataTable['output_type'] = 'display_data';\n",
              "          await google.colab.output.renderOutput(dataTable, element);\n",
              "          const docLink = document.createElement('div');\n",
              "          docLink.innerHTML = docLinkHtml;\n",
              "          element.appendChild(docLink);\n",
              "        }\n",
              "      </script>\n",
              "    </div>\n",
              "  </div>\n",
              "  "
            ]
          },
          "metadata": {},
          "execution_count": 11
        }
      ]
    },
    {
      "cell_type": "markdown",
      "source": [
        "**My own example 22 - Creating a C++ program that mutiplies 10 times A(600x100) and  B (100x600) matrices**"
      ],
      "metadata": {
        "id": "XkgHEUB2aFI1"
      }
    },
    {
      "cell_type": "code",
      "source": [
        "%%writefile tmpcc.cc\n",
        "#include <iostream>\n",
        "#include <chrono> \n",
        "\n",
        "using namespace std;\n",
        "using namespace chrono; \n",
        "\n",
        "void test();\n",
        "\n",
        "void test()\n",
        "{\n",
        "    int matriz1[600][100];\n",
        "    int matriz2[100][600];\n",
        "    int result[600][600];\n",
        "    \n",
        "    // Generar valores aleatorios para las matrices\n",
        "    for(int i = 0; i < 600; i++) {\n",
        "        for(int j = 0; j < 100; j++) {\n",
        "            matriz1[i][j] = rand() % 100;\n",
        "        }\n",
        "    }\n",
        "    \n",
        "    for(int i = 0; i < 100; i++) {\n",
        "        for(int j = 0; j < 600; j++) {\n",
        "            matriz2[i][j] = rand() % 100;\n",
        "        }\n",
        "    }\n",
        "    \n",
        "    for (int i = 0; i < 600; i++) {\n",
        "        for (int j = 0; j < 600; j++) {\n",
        "            result[i][j] = 0;\n",
        "            for (int k = 0; k < 100; k++) {\n",
        "                result[i][j] += matriz1[i][k] * matriz2[k][j];\n",
        "            }\n",
        "        }\n",
        "    }\n",
        "\n",
        "    return;\n",
        "}\n",
        "int main(){\n",
        "    float tiempos[10];\n",
        "    \n",
        "    for(int i=0; i<10; i++){\n",
        "        auto start = high_resolution_clock::now();\n",
        "        \n",
        "        test();\n",
        "        \n",
        "        // Crear un punto de finalización para medir el tiempo\n",
        "        auto stop = high_resolution_clock::now();\n",
        "    \n",
        "        // Calcular la duración en segundos como un valor double\n",
        "        auto duration = duration_cast<microseconds>(stop - start);\n",
        "        tiempos[i] = duration.count();\n",
        "    }\n",
        "    \n",
        "    float prom=0;\n",
        "    for(int i=0; i<10; i++){\n",
        "        prom += tiempos[i];\n",
        "    }\n",
        "    cout << prom/10 << endl;    \n",
        "}"
      ],
      "metadata": {
        "id": "U1CoUYEw6-9P",
        "outputId": "b8289ed6-dec9-435a-e7a5-021a39ce5d52",
        "colab": {
          "base_uri": "https://localhost:8080/"
        }
      },
      "execution_count": 13,
      "outputs": [
        {
          "output_type": "stream",
          "name": "stdout",
          "text": [
            "Overwriting tmpcc.cc\n"
          ]
        }
      ]
    },
    {
      "cell_type": "markdown",
      "source": [
        "**My own example 23 - Running the C++ program that mutiplies 10 times A(600x100) and  B (100x600) matrices**"
      ],
      "metadata": {
        "id": "WFpb2F81aKJA"
      }
    },
    {
      "cell_type": "code",
      "source": [
        "!g++ tmpcc.cc -o tmpcc\n",
        "!./tmpcc"
      ],
      "metadata": {
        "id": "Q33PLFeG6_0r",
        "outputId": "99eaa753-1c6e-4549-c7c7-24787b453351",
        "colab": {
          "base_uri": "https://localhost:8080/"
        }
      },
      "execution_count": 14,
      "outputs": [
        {
          "output_type": "stream",
          "name": "stdout",
          "text": [
            "168808\n"
          ]
        }
      ]
    },
    {
      "cell_type": "markdown",
      "source": [
        "**My own example 24 - Adding C++ average execution time to the data frame**"
      ],
      "metadata": {
        "id": "GSEE2zDjaPmg"
      }
    },
    {
      "cell_type": "code",
      "source": [
        "nuevo_elemento = pd.DataFrame({'Languages': 'C++', 'Average Secs': 0.172142}, index=[3])\n",
        "\n",
        "df = pd.concat([df, nuevo_elemento])\n",
        "\n",
        "df"
      ],
      "metadata": {
        "id": "YL_YL8Qm7B0w",
        "outputId": "2cd6cdca-6460-4866-eea8-f1804fc3fdc5",
        "colab": {
          "base_uri": "https://localhost:8080/",
          "height": 175
        }
      },
      "execution_count": 15,
      "outputs": [
        {
          "output_type": "execute_result",
          "data": {
            "text/plain": [
              "  Languages  Average Secs\n",
              "0    Phyton     12.471081\n",
              "2         C     12.471081\n",
              "2         C      0.874454\n",
              "3       C++      0.172142"
            ],
            "text/html": [
              "\n",
              "  <div id=\"df-b4514adf-d69c-4654-8cf1-135e2e3ea23f\">\n",
              "    <div class=\"colab-df-container\">\n",
              "      <div>\n",
              "<style scoped>\n",
              "    .dataframe tbody tr th:only-of-type {\n",
              "        vertical-align: middle;\n",
              "    }\n",
              "\n",
              "    .dataframe tbody tr th {\n",
              "        vertical-align: top;\n",
              "    }\n",
              "\n",
              "    .dataframe thead th {\n",
              "        text-align: right;\n",
              "    }\n",
              "</style>\n",
              "<table border=\"1\" class=\"dataframe\">\n",
              "  <thead>\n",
              "    <tr style=\"text-align: right;\">\n",
              "      <th></th>\n",
              "      <th>Languages</th>\n",
              "      <th>Average Secs</th>\n",
              "    </tr>\n",
              "  </thead>\n",
              "  <tbody>\n",
              "    <tr>\n",
              "      <th>0</th>\n",
              "      <td>Phyton</td>\n",
              "      <td>12.471081</td>\n",
              "    </tr>\n",
              "    <tr>\n",
              "      <th>2</th>\n",
              "      <td>C</td>\n",
              "      <td>12.471081</td>\n",
              "    </tr>\n",
              "    <tr>\n",
              "      <th>2</th>\n",
              "      <td>C</td>\n",
              "      <td>0.874454</td>\n",
              "    </tr>\n",
              "    <tr>\n",
              "      <th>3</th>\n",
              "      <td>C++</td>\n",
              "      <td>0.172142</td>\n",
              "    </tr>\n",
              "  </tbody>\n",
              "</table>\n",
              "</div>\n",
              "      <button class=\"colab-df-convert\" onclick=\"convertToInteractive('df-b4514adf-d69c-4654-8cf1-135e2e3ea23f')\"\n",
              "              title=\"Convert this dataframe to an interactive table.\"\n",
              "              style=\"display:none;\">\n",
              "        \n",
              "  <svg xmlns=\"http://www.w3.org/2000/svg\" height=\"24px\"viewBox=\"0 0 24 24\"\n",
              "       width=\"24px\">\n",
              "    <path d=\"M0 0h24v24H0V0z\" fill=\"none\"/>\n",
              "    <path d=\"M18.56 5.44l.94 2.06.94-2.06 2.06-.94-2.06-.94-.94-2.06-.94 2.06-2.06.94zm-11 1L8.5 8.5l.94-2.06 2.06-.94-2.06-.94L8.5 2.5l-.94 2.06-2.06.94zm10 10l.94 2.06.94-2.06 2.06-.94-2.06-.94-.94-2.06-.94 2.06-2.06.94z\"/><path d=\"M17.41 7.96l-1.37-1.37c-.4-.4-.92-.59-1.43-.59-.52 0-1.04.2-1.43.59L10.3 9.45l-7.72 7.72c-.78.78-.78 2.05 0 2.83L4 21.41c.39.39.9.59 1.41.59.51 0 1.02-.2 1.41-.59l7.78-7.78 2.81-2.81c.8-.78.8-2.07 0-2.86zM5.41 20L4 18.59l7.72-7.72 1.47 1.35L5.41 20z\"/>\n",
              "  </svg>\n",
              "      </button>\n",
              "      \n",
              "  <style>\n",
              "    .colab-df-container {\n",
              "      display:flex;\n",
              "      flex-wrap:wrap;\n",
              "      gap: 12px;\n",
              "    }\n",
              "\n",
              "    .colab-df-convert {\n",
              "      background-color: #E8F0FE;\n",
              "      border: none;\n",
              "      border-radius: 50%;\n",
              "      cursor: pointer;\n",
              "      display: none;\n",
              "      fill: #1967D2;\n",
              "      height: 32px;\n",
              "      padding: 0 0 0 0;\n",
              "      width: 32px;\n",
              "    }\n",
              "\n",
              "    .colab-df-convert:hover {\n",
              "      background-color: #E2EBFA;\n",
              "      box-shadow: 0px 1px 2px rgba(60, 64, 67, 0.3), 0px 1px 3px 1px rgba(60, 64, 67, 0.15);\n",
              "      fill: #174EA6;\n",
              "    }\n",
              "\n",
              "    [theme=dark] .colab-df-convert {\n",
              "      background-color: #3B4455;\n",
              "      fill: #D2E3FC;\n",
              "    }\n",
              "\n",
              "    [theme=dark] .colab-df-convert:hover {\n",
              "      background-color: #434B5C;\n",
              "      box-shadow: 0px 1px 3px 1px rgba(0, 0, 0, 0.15);\n",
              "      filter: drop-shadow(0px 1px 2px rgba(0, 0, 0, 0.3));\n",
              "      fill: #FFFFFF;\n",
              "    }\n",
              "  </style>\n",
              "\n",
              "      <script>\n",
              "        const buttonEl =\n",
              "          document.querySelector('#df-b4514adf-d69c-4654-8cf1-135e2e3ea23f button.colab-df-convert');\n",
              "        buttonEl.style.display =\n",
              "          google.colab.kernel.accessAllowed ? 'block' : 'none';\n",
              "\n",
              "        async function convertToInteractive(key) {\n",
              "          const element = document.querySelector('#df-b4514adf-d69c-4654-8cf1-135e2e3ea23f');\n",
              "          const dataTable =\n",
              "            await google.colab.kernel.invokeFunction('convertToInteractive',\n",
              "                                                     [key], {});\n",
              "          if (!dataTable) return;\n",
              "\n",
              "          const docLinkHtml = 'Like what you see? Visit the ' +\n",
              "            '<a target=\"_blank\" href=https://colab.research.google.com/notebooks/data_table.ipynb>data table notebook</a>'\n",
              "            + ' to learn more about interactive tables.';\n",
              "          element.innerHTML = '';\n",
              "          dataTable['output_type'] = 'display_data';\n",
              "          await google.colab.output.renderOutput(dataTable, element);\n",
              "          const docLink = document.createElement('div');\n",
              "          docLink.innerHTML = docLinkHtml;\n",
              "          element.appendChild(docLink);\n",
              "        }\n",
              "      </script>\n",
              "    </div>\n",
              "  </div>\n",
              "  "
            ]
          },
          "metadata": {},
          "execution_count": 15
        }
      ]
    },
    {
      "cell_type": "markdown",
      "source": [
        "**My own example 25 - Creating a Java program that mutiplies 10 times A(600x100) and  B (100x600) matrices**"
      ],
      "metadata": {
        "id": "OjOecKv-d-ML"
      }
    },
    {
      "cell_type": "code",
      "source": [
        "%%writefile Main.java\n",
        " class Main {\n",
        "    public static void main(String[] args) {\n",
        "        long[] tiempos = new long[10];\n",
        "        \n",
        "        for(int i=0;i<10;i++){\n",
        "            long startTime = System.nanoTime();\n",
        "            test();\n",
        "            long endTime = System.nanoTime();\n",
        "        \n",
        "            long duration = (endTime - startTime) / 1000000;    \n",
        "            \n",
        "            tiempos[i] = duration;\n",
        "        }\n",
        "        \n",
        "        long prom = 0;\n",
        "        for(int i=0;i<10;i++){\n",
        "            prom += tiempos[i];\n",
        "        }\n",
        "        prom = prom/10;\n",
        "        System.out.println(prom + \" nanosegundos\");\n",
        "    }\n",
        "    \n",
        "    public static void test(){\n",
        "        final int ROWS1 = 600; // Definir el número de filas de la primera matriz\n",
        "        final int COLS1 = 100; // Definir el número de columnas de la primera matriz\n",
        "        final int ROWS2 = 100; // Definir el número de filas de la segunda matriz\n",
        "        final int COLS2 = 600; // Definir el número de columnas de la segunda matriz\n",
        "        \n",
        "        // Definir las dos matrices a multiplicar\n",
        "        int[][] mat1 = new int[ROWS1][COLS1];\n",
        "        int[][] mat2 = new int[ROWS2][COLS2];\n",
        "        \n",
        "        // Llenar las matrices con valores aleatorios\n",
        "        for (int i = 0; i < ROWS1; i++) {\n",
        "            for (int j = 0; j < COLS1; j++) {\n",
        "                mat1[i][j] = (int) (Math.random() * 10);\n",
        "            }\n",
        "        }\n",
        "        \n",
        "        for (int i = 0; i < ROWS2; i++) {\n",
        "            for (int j = 0; j < COLS2; j++) {\n",
        "                mat2[i][j] = (int) (Math.random() * 10);\n",
        "            }\n",
        "        }\n",
        "        \n",
        "        // Definir la matriz donde se almacenará el resultado de la multiplicación\n",
        "        int[][] result = new int[ROWS1][COLS2];\n",
        "        \n",
        "        // Multiplicar las dos matrices y almacenar el resultado en la matriz result\n",
        "        for (int i = 0; i < ROWS1; i++) {\n",
        "            for (int j = 0; j < COLS2; j++) {\n",
        "                result[i][j] = 0;\n",
        "                for (int k = 0; k < ROWS2; k++) {\n",
        "                    result[i][j] += mat1[i][k] * mat2[k][j];\n",
        "                }\n",
        "            }\n",
        "        }\n",
        "    }\n",
        "}"
      ],
      "metadata": {
        "id": "o8UPxOqs7C34",
        "outputId": "14a9c1ae-cd3f-4eb6-dc76-d449bfdb83f6",
        "colab": {
          "base_uri": "https://localhost:8080/"
        }
      },
      "execution_count": 16,
      "outputs": [
        {
          "output_type": "stream",
          "name": "stdout",
          "text": [
            "Overwriting Main.java\n"
          ]
        }
      ]
    },
    {
      "cell_type": "markdown",
      "source": [
        "**My own example 26 - Running the Java program that mutiplies 10 times A(600x100) and  B (100x600) matrices**"
      ],
      "metadata": {
        "id": "J75aKNvZeFHx"
      }
    },
    {
      "cell_type": "code",
      "source": [
        "!javac Main.java\n",
        "!java Main"
      ],
      "metadata": {
        "id": "NP_QcZqA7EPn",
        "outputId": "ec1282a9-5445-4a52-b8be-f4ec8916a2f7",
        "colab": {
          "base_uri": "https://localhost:8080/"
        }
      },
      "execution_count": 17,
      "outputs": [
        {
          "output_type": "stream",
          "name": "stdout",
          "text": [
            "96 nanosegundos\n"
          ]
        }
      ]
    },
    {
      "cell_type": "markdown",
      "source": [
        "**My own example 27 - Adding Java average execution time to the data frame**"
      ],
      "metadata": {
        "id": "C75pEHRieNfo"
      }
    },
    {
      "cell_type": "code",
      "source": [
        "nuevo_elemento = pd.DataFrame({'Languages': 'Java', 'Average Secs': 0.000000113}, index=[4])\n",
        "\n",
        "df = pd.concat([df, nuevo_elemento])\n",
        "\n",
        "df"
      ],
      "metadata": {
        "id": "5ZDLYWrY7Fhi",
        "outputId": "84c2fe94-8315-4d97-a4af-51036d840973",
        "colab": {
          "base_uri": "https://localhost:8080/",
          "height": 206
        }
      },
      "execution_count": 18,
      "outputs": [
        {
          "output_type": "execute_result",
          "data": {
            "text/plain": [
              "  Languages  Average Secs\n",
              "0    Phyton  1.247108e+01\n",
              "2         C  1.247108e+01\n",
              "2         C  8.744540e-01\n",
              "3       C++  1.721420e-01\n",
              "4      Java  1.130000e-07"
            ],
            "text/html": [
              "\n",
              "  <div id=\"df-40541245-fdce-4ce9-accd-a509a441586a\">\n",
              "    <div class=\"colab-df-container\">\n",
              "      <div>\n",
              "<style scoped>\n",
              "    .dataframe tbody tr th:only-of-type {\n",
              "        vertical-align: middle;\n",
              "    }\n",
              "\n",
              "    .dataframe tbody tr th {\n",
              "        vertical-align: top;\n",
              "    }\n",
              "\n",
              "    .dataframe thead th {\n",
              "        text-align: right;\n",
              "    }\n",
              "</style>\n",
              "<table border=\"1\" class=\"dataframe\">\n",
              "  <thead>\n",
              "    <tr style=\"text-align: right;\">\n",
              "      <th></th>\n",
              "      <th>Languages</th>\n",
              "      <th>Average Secs</th>\n",
              "    </tr>\n",
              "  </thead>\n",
              "  <tbody>\n",
              "    <tr>\n",
              "      <th>0</th>\n",
              "      <td>Phyton</td>\n",
              "      <td>1.247108e+01</td>\n",
              "    </tr>\n",
              "    <tr>\n",
              "      <th>2</th>\n",
              "      <td>C</td>\n",
              "      <td>1.247108e+01</td>\n",
              "    </tr>\n",
              "    <tr>\n",
              "      <th>2</th>\n",
              "      <td>C</td>\n",
              "      <td>8.744540e-01</td>\n",
              "    </tr>\n",
              "    <tr>\n",
              "      <th>3</th>\n",
              "      <td>C++</td>\n",
              "      <td>1.721420e-01</td>\n",
              "    </tr>\n",
              "    <tr>\n",
              "      <th>4</th>\n",
              "      <td>Java</td>\n",
              "      <td>1.130000e-07</td>\n",
              "    </tr>\n",
              "  </tbody>\n",
              "</table>\n",
              "</div>\n",
              "      <button class=\"colab-df-convert\" onclick=\"convertToInteractive('df-40541245-fdce-4ce9-accd-a509a441586a')\"\n",
              "              title=\"Convert this dataframe to an interactive table.\"\n",
              "              style=\"display:none;\">\n",
              "        \n",
              "  <svg xmlns=\"http://www.w3.org/2000/svg\" height=\"24px\"viewBox=\"0 0 24 24\"\n",
              "       width=\"24px\">\n",
              "    <path d=\"M0 0h24v24H0V0z\" fill=\"none\"/>\n",
              "    <path d=\"M18.56 5.44l.94 2.06.94-2.06 2.06-.94-2.06-.94-.94-2.06-.94 2.06-2.06.94zm-11 1L8.5 8.5l.94-2.06 2.06-.94-2.06-.94L8.5 2.5l-.94 2.06-2.06.94zm10 10l.94 2.06.94-2.06 2.06-.94-2.06-.94-.94-2.06-.94 2.06-2.06.94z\"/><path d=\"M17.41 7.96l-1.37-1.37c-.4-.4-.92-.59-1.43-.59-.52 0-1.04.2-1.43.59L10.3 9.45l-7.72 7.72c-.78.78-.78 2.05 0 2.83L4 21.41c.39.39.9.59 1.41.59.51 0 1.02-.2 1.41-.59l7.78-7.78 2.81-2.81c.8-.78.8-2.07 0-2.86zM5.41 20L4 18.59l7.72-7.72 1.47 1.35L5.41 20z\"/>\n",
              "  </svg>\n",
              "      </button>\n",
              "      \n",
              "  <style>\n",
              "    .colab-df-container {\n",
              "      display:flex;\n",
              "      flex-wrap:wrap;\n",
              "      gap: 12px;\n",
              "    }\n",
              "\n",
              "    .colab-df-convert {\n",
              "      background-color: #E8F0FE;\n",
              "      border: none;\n",
              "      border-radius: 50%;\n",
              "      cursor: pointer;\n",
              "      display: none;\n",
              "      fill: #1967D2;\n",
              "      height: 32px;\n",
              "      padding: 0 0 0 0;\n",
              "      width: 32px;\n",
              "    }\n",
              "\n",
              "    .colab-df-convert:hover {\n",
              "      background-color: #E2EBFA;\n",
              "      box-shadow: 0px 1px 2px rgba(60, 64, 67, 0.3), 0px 1px 3px 1px rgba(60, 64, 67, 0.15);\n",
              "      fill: #174EA6;\n",
              "    }\n",
              "\n",
              "    [theme=dark] .colab-df-convert {\n",
              "      background-color: #3B4455;\n",
              "      fill: #D2E3FC;\n",
              "    }\n",
              "\n",
              "    [theme=dark] .colab-df-convert:hover {\n",
              "      background-color: #434B5C;\n",
              "      box-shadow: 0px 1px 3px 1px rgba(0, 0, 0, 0.15);\n",
              "      filter: drop-shadow(0px 1px 2px rgba(0, 0, 0, 0.3));\n",
              "      fill: #FFFFFF;\n",
              "    }\n",
              "  </style>\n",
              "\n",
              "      <script>\n",
              "        const buttonEl =\n",
              "          document.querySelector('#df-40541245-fdce-4ce9-accd-a509a441586a button.colab-df-convert');\n",
              "        buttonEl.style.display =\n",
              "          google.colab.kernel.accessAllowed ? 'block' : 'none';\n",
              "\n",
              "        async function convertToInteractive(key) {\n",
              "          const element = document.querySelector('#df-40541245-fdce-4ce9-accd-a509a441586a');\n",
              "          const dataTable =\n",
              "            await google.colab.kernel.invokeFunction('convertToInteractive',\n",
              "                                                     [key], {});\n",
              "          if (!dataTable) return;\n",
              "\n",
              "          const docLinkHtml = 'Like what you see? Visit the ' +\n",
              "            '<a target=\"_blank\" href=https://colab.research.google.com/notebooks/data_table.ipynb>data table notebook</a>'\n",
              "            + ' to learn more about interactive tables.';\n",
              "          element.innerHTML = '';\n",
              "          dataTable['output_type'] = 'display_data';\n",
              "          await google.colab.output.renderOutput(dataTable, element);\n",
              "          const docLink = document.createElement('div');\n",
              "          docLink.innerHTML = docLinkHtml;\n",
              "          element.appendChild(docLink);\n",
              "        }\n",
              "      </script>\n",
              "    </div>\n",
              "  </div>\n",
              "  "
            ]
          },
          "metadata": {},
          "execution_count": 18
        }
      ]
    },
    {
      "cell_type": "markdown",
      "source": [
        "**My own example 28 - Creating a Javascript program that mutiplies 10 times A(600x100) and  B (100x600) matrices**"
      ],
      "metadata": {
        "id": "nHtevrHEeUiI"
      }
    },
    {
      "cell_type": "code",
      "source": [
        "%%writefile tmp.js\n",
        "function multiplicarMatrices(matrizA, matrizB) {\n",
        "  const filasA = 600;\n",
        "  const columnasA = 100;\n",
        "  const filasB = 100;\n",
        "  const columnasB = 600;\n",
        "  \n",
        "  // Inicializar matriz de resultado\n",
        "  const matrizC = new Array(filasA);\n",
        "  for (let i = 0; i < filasA; i++) {\n",
        "    matrizC[i] = new Array(columnasB).fill(0);\n",
        "  }\n",
        "  \n",
        "  // Multiplicar matrices\n",
        "  for (let i = 0; i < filasA; i++) {\n",
        "    for (let j = 0; j < columnasB; j++) {\n",
        "      for (let k = 0; k < columnasA; k++) {\n",
        "        matrizC[i][j] += matrizA[i][k] * matrizB[k][j];\n",
        "      }\n",
        "    }\n",
        "  }\n",
        "  \n",
        "  // Retornar matriz de resultado\n",
        "  return matrizC;\n",
        "}\n",
        "\n",
        "// Crear matrices de ejemplo\n",
        "const matrizA = new Array(600);\n",
        "for (let i = 0; i < 600; i++) {\n",
        "  matrizA[i] = new Array(100);\n",
        "  for (let j = 0; j < 100; j++) {\n",
        "    matrizA[i][j] = 1;\n",
        "  }\n",
        "}\n",
        "\n",
        "const matrizB = new Array(100);\n",
        "for (let i = 0; i < 100; i++) {\n",
        "  matrizB[i] = new Array(600);\n",
        "  for (let j = 0; j < 600; j++) {\n",
        "    matrizB[i][j] = 2;\n",
        "  }\n",
        "}\n",
        "\n",
        "// Multiplicar matrices 10 veces y calcular tiempo de ejecución\n",
        "let total = 0;\n",
        "for (let i = 0; i < 10; i++) {\n",
        "    const startTime = new Date().getTime();\n",
        "    const matrizC = multiplicarMatrices(matrizA, matrizB);\n",
        "    const endTime = new Date().getTime();\n",
        "    const duration = endTime - startTime;\n",
        "    total += duration;\n",
        "}\n",
        "\n",
        "const prom = total/10;\n",
        "console.log(prom);"
      ],
      "metadata": {
        "id": "6t1-WhmW7GhX",
        "outputId": "3e77553d-ba6e-40c7-b86c-8b3d4343bc10",
        "colab": {
          "base_uri": "https://localhost:8080/"
        }
      },
      "execution_count": 19,
      "outputs": [
        {
          "output_type": "stream",
          "name": "stdout",
          "text": [
            "Overwriting tmp.js\n"
          ]
        }
      ]
    },
    {
      "cell_type": "markdown",
      "source": [
        "**My own example 29 - Running the Javascript program that mutiplies 10 times A(600x100) and  B (100x600) matrices**"
      ],
      "metadata": {
        "id": "87XpOlCteUZJ"
      }
    },
    {
      "cell_type": "code",
      "source": [
        "!node tmp.js"
      ],
      "metadata": {
        "id": "QEm52oVe7HyF",
        "outputId": "992c72ac-49ea-4beb-bb16-4c396b07918e",
        "colab": {
          "base_uri": "https://localhost:8080/"
        }
      },
      "execution_count": 20,
      "outputs": [
        {
          "output_type": "stream",
          "name": "stdout",
          "text": [
            "\u001b[33m302.3\u001b[39m\n"
          ]
        }
      ]
    },
    {
      "cell_type": "markdown",
      "source": [
        "**My own example 30 - Adding Javascript average execution time to the data frame**"
      ],
      "metadata": {
        "id": "LvxaACodc9-K"
      }
    },
    {
      "cell_type": "code",
      "source": [
        "nuevo_elemento = pd.DataFrame({'Languages': 'JavaScript', 'Average Secs': 0.4893}, index=[5])\n",
        "\n",
        "df = pd.concat([df, nuevo_elemento])\n",
        "\n",
        "df"
      ],
      "metadata": {
        "id": "BP_cdxR17J50",
        "outputId": "989f756b-5d5f-4e79-c0d3-95a6365c80f4",
        "colab": {
          "base_uri": "https://localhost:8080/",
          "height": 237
        }
      },
      "execution_count": 21,
      "outputs": [
        {
          "output_type": "execute_result",
          "data": {
            "text/plain": [
              "    Languages  Average Secs\n",
              "0      Phyton  1.247108e+01\n",
              "2           C  1.247108e+01\n",
              "2           C  8.744540e-01\n",
              "3         C++  1.721420e-01\n",
              "4        Java  1.130000e-07\n",
              "5  JavaScript  4.893000e-01"
            ],
            "text/html": [
              "\n",
              "  <div id=\"df-566f1357-fa68-49d3-ae54-5e14918b80b8\">\n",
              "    <div class=\"colab-df-container\">\n",
              "      <div>\n",
              "<style scoped>\n",
              "    .dataframe tbody tr th:only-of-type {\n",
              "        vertical-align: middle;\n",
              "    }\n",
              "\n",
              "    .dataframe tbody tr th {\n",
              "        vertical-align: top;\n",
              "    }\n",
              "\n",
              "    .dataframe thead th {\n",
              "        text-align: right;\n",
              "    }\n",
              "</style>\n",
              "<table border=\"1\" class=\"dataframe\">\n",
              "  <thead>\n",
              "    <tr style=\"text-align: right;\">\n",
              "      <th></th>\n",
              "      <th>Languages</th>\n",
              "      <th>Average Secs</th>\n",
              "    </tr>\n",
              "  </thead>\n",
              "  <tbody>\n",
              "    <tr>\n",
              "      <th>0</th>\n",
              "      <td>Phyton</td>\n",
              "      <td>1.247108e+01</td>\n",
              "    </tr>\n",
              "    <tr>\n",
              "      <th>2</th>\n",
              "      <td>C</td>\n",
              "      <td>1.247108e+01</td>\n",
              "    </tr>\n",
              "    <tr>\n",
              "      <th>2</th>\n",
              "      <td>C</td>\n",
              "      <td>8.744540e-01</td>\n",
              "    </tr>\n",
              "    <tr>\n",
              "      <th>3</th>\n",
              "      <td>C++</td>\n",
              "      <td>1.721420e-01</td>\n",
              "    </tr>\n",
              "    <tr>\n",
              "      <th>4</th>\n",
              "      <td>Java</td>\n",
              "      <td>1.130000e-07</td>\n",
              "    </tr>\n",
              "    <tr>\n",
              "      <th>5</th>\n",
              "      <td>JavaScript</td>\n",
              "      <td>4.893000e-01</td>\n",
              "    </tr>\n",
              "  </tbody>\n",
              "</table>\n",
              "</div>\n",
              "      <button class=\"colab-df-convert\" onclick=\"convertToInteractive('df-566f1357-fa68-49d3-ae54-5e14918b80b8')\"\n",
              "              title=\"Convert this dataframe to an interactive table.\"\n",
              "              style=\"display:none;\">\n",
              "        \n",
              "  <svg xmlns=\"http://www.w3.org/2000/svg\" height=\"24px\"viewBox=\"0 0 24 24\"\n",
              "       width=\"24px\">\n",
              "    <path d=\"M0 0h24v24H0V0z\" fill=\"none\"/>\n",
              "    <path d=\"M18.56 5.44l.94 2.06.94-2.06 2.06-.94-2.06-.94-.94-2.06-.94 2.06-2.06.94zm-11 1L8.5 8.5l.94-2.06 2.06-.94-2.06-.94L8.5 2.5l-.94 2.06-2.06.94zm10 10l.94 2.06.94-2.06 2.06-.94-2.06-.94-.94-2.06-.94 2.06-2.06.94z\"/><path d=\"M17.41 7.96l-1.37-1.37c-.4-.4-.92-.59-1.43-.59-.52 0-1.04.2-1.43.59L10.3 9.45l-7.72 7.72c-.78.78-.78 2.05 0 2.83L4 21.41c.39.39.9.59 1.41.59.51 0 1.02-.2 1.41-.59l7.78-7.78 2.81-2.81c.8-.78.8-2.07 0-2.86zM5.41 20L4 18.59l7.72-7.72 1.47 1.35L5.41 20z\"/>\n",
              "  </svg>\n",
              "      </button>\n",
              "      \n",
              "  <style>\n",
              "    .colab-df-container {\n",
              "      display:flex;\n",
              "      flex-wrap:wrap;\n",
              "      gap: 12px;\n",
              "    }\n",
              "\n",
              "    .colab-df-convert {\n",
              "      background-color: #E8F0FE;\n",
              "      border: none;\n",
              "      border-radius: 50%;\n",
              "      cursor: pointer;\n",
              "      display: none;\n",
              "      fill: #1967D2;\n",
              "      height: 32px;\n",
              "      padding: 0 0 0 0;\n",
              "      width: 32px;\n",
              "    }\n",
              "\n",
              "    .colab-df-convert:hover {\n",
              "      background-color: #E2EBFA;\n",
              "      box-shadow: 0px 1px 2px rgba(60, 64, 67, 0.3), 0px 1px 3px 1px rgba(60, 64, 67, 0.15);\n",
              "      fill: #174EA6;\n",
              "    }\n",
              "\n",
              "    [theme=dark] .colab-df-convert {\n",
              "      background-color: #3B4455;\n",
              "      fill: #D2E3FC;\n",
              "    }\n",
              "\n",
              "    [theme=dark] .colab-df-convert:hover {\n",
              "      background-color: #434B5C;\n",
              "      box-shadow: 0px 1px 3px 1px rgba(0, 0, 0, 0.15);\n",
              "      filter: drop-shadow(0px 1px 2px rgba(0, 0, 0, 0.3));\n",
              "      fill: #FFFFFF;\n",
              "    }\n",
              "  </style>\n",
              "\n",
              "      <script>\n",
              "        const buttonEl =\n",
              "          document.querySelector('#df-566f1357-fa68-49d3-ae54-5e14918b80b8 button.colab-df-convert');\n",
              "        buttonEl.style.display =\n",
              "          google.colab.kernel.accessAllowed ? 'block' : 'none';\n",
              "\n",
              "        async function convertToInteractive(key) {\n",
              "          const element = document.querySelector('#df-566f1357-fa68-49d3-ae54-5e14918b80b8');\n",
              "          const dataTable =\n",
              "            await google.colab.kernel.invokeFunction('convertToInteractive',\n",
              "                                                     [key], {});\n",
              "          if (!dataTable) return;\n",
              "\n",
              "          const docLinkHtml = 'Like what you see? Visit the ' +\n",
              "            '<a target=\"_blank\" href=https://colab.research.google.com/notebooks/data_table.ipynb>data table notebook</a>'\n",
              "            + ' to learn more about interactive tables.';\n",
              "          element.innerHTML = '';\n",
              "          dataTable['output_type'] = 'display_data';\n",
              "          await google.colab.output.renderOutput(dataTable, element);\n",
              "          const docLink = document.createElement('div');\n",
              "          docLink.innerHTML = docLinkHtml;\n",
              "          element.appendChild(docLink);\n",
              "        }\n",
              "      </script>\n",
              "    </div>\n",
              "  </div>\n",
              "  "
            ]
          },
          "metadata": {},
          "execution_count": 21
        }
      ]
    },
    {
      "cell_type": "markdown",
      "source": [
        "**My own example 31 - Finding the minimun average esecuiton time in the data frame**"
      ],
      "metadata": {
        "id": "XPP0Ir1dezN6"
      }
    },
    {
      "cell_type": "code",
      "source": [
        "min_time = df['Average Secs'].min()\n",
        "tiempo_minimo = df.loc[df['Average Secs'] == min_time]\n",
        "tiempo_minimo"
      ],
      "metadata": {
        "id": "y0rA3N9v7KyM",
        "outputId": "5b0468d2-4538-489c-9397-94dab2281378",
        "colab": {
          "base_uri": "https://localhost:8080/",
          "height": 81
        }
      },
      "execution_count": 22,
      "outputs": [
        {
          "output_type": "execute_result",
          "data": {
            "text/plain": [
              "  Languages  Average Secs\n",
              "4      Java  1.130000e-07"
            ],
            "text/html": [
              "\n",
              "  <div id=\"df-448de701-95d4-4ade-9394-6c218ce13bb0\">\n",
              "    <div class=\"colab-df-container\">\n",
              "      <div>\n",
              "<style scoped>\n",
              "    .dataframe tbody tr th:only-of-type {\n",
              "        vertical-align: middle;\n",
              "    }\n",
              "\n",
              "    .dataframe tbody tr th {\n",
              "        vertical-align: top;\n",
              "    }\n",
              "\n",
              "    .dataframe thead th {\n",
              "        text-align: right;\n",
              "    }\n",
              "</style>\n",
              "<table border=\"1\" class=\"dataframe\">\n",
              "  <thead>\n",
              "    <tr style=\"text-align: right;\">\n",
              "      <th></th>\n",
              "      <th>Languages</th>\n",
              "      <th>Average Secs</th>\n",
              "    </tr>\n",
              "  </thead>\n",
              "  <tbody>\n",
              "    <tr>\n",
              "      <th>4</th>\n",
              "      <td>Java</td>\n",
              "      <td>1.130000e-07</td>\n",
              "    </tr>\n",
              "  </tbody>\n",
              "</table>\n",
              "</div>\n",
              "      <button class=\"colab-df-convert\" onclick=\"convertToInteractive('df-448de701-95d4-4ade-9394-6c218ce13bb0')\"\n",
              "              title=\"Convert this dataframe to an interactive table.\"\n",
              "              style=\"display:none;\">\n",
              "        \n",
              "  <svg xmlns=\"http://www.w3.org/2000/svg\" height=\"24px\"viewBox=\"0 0 24 24\"\n",
              "       width=\"24px\">\n",
              "    <path d=\"M0 0h24v24H0V0z\" fill=\"none\"/>\n",
              "    <path d=\"M18.56 5.44l.94 2.06.94-2.06 2.06-.94-2.06-.94-.94-2.06-.94 2.06-2.06.94zm-11 1L8.5 8.5l.94-2.06 2.06-.94-2.06-.94L8.5 2.5l-.94 2.06-2.06.94zm10 10l.94 2.06.94-2.06 2.06-.94-2.06-.94-.94-2.06-.94 2.06-2.06.94z\"/><path d=\"M17.41 7.96l-1.37-1.37c-.4-.4-.92-.59-1.43-.59-.52 0-1.04.2-1.43.59L10.3 9.45l-7.72 7.72c-.78.78-.78 2.05 0 2.83L4 21.41c.39.39.9.59 1.41.59.51 0 1.02-.2 1.41-.59l7.78-7.78 2.81-2.81c.8-.78.8-2.07 0-2.86zM5.41 20L4 18.59l7.72-7.72 1.47 1.35L5.41 20z\"/>\n",
              "  </svg>\n",
              "      </button>\n",
              "      \n",
              "  <style>\n",
              "    .colab-df-container {\n",
              "      display:flex;\n",
              "      flex-wrap:wrap;\n",
              "      gap: 12px;\n",
              "    }\n",
              "\n",
              "    .colab-df-convert {\n",
              "      background-color: #E8F0FE;\n",
              "      border: none;\n",
              "      border-radius: 50%;\n",
              "      cursor: pointer;\n",
              "      display: none;\n",
              "      fill: #1967D2;\n",
              "      height: 32px;\n",
              "      padding: 0 0 0 0;\n",
              "      width: 32px;\n",
              "    }\n",
              "\n",
              "    .colab-df-convert:hover {\n",
              "      background-color: #E2EBFA;\n",
              "      box-shadow: 0px 1px 2px rgba(60, 64, 67, 0.3), 0px 1px 3px 1px rgba(60, 64, 67, 0.15);\n",
              "      fill: #174EA6;\n",
              "    }\n",
              "\n",
              "    [theme=dark] .colab-df-convert {\n",
              "      background-color: #3B4455;\n",
              "      fill: #D2E3FC;\n",
              "    }\n",
              "\n",
              "    [theme=dark] .colab-df-convert:hover {\n",
              "      background-color: #434B5C;\n",
              "      box-shadow: 0px 1px 3px 1px rgba(0, 0, 0, 0.15);\n",
              "      filter: drop-shadow(0px 1px 2px rgba(0, 0, 0, 0.3));\n",
              "      fill: #FFFFFF;\n",
              "    }\n",
              "  </style>\n",
              "\n",
              "      <script>\n",
              "        const buttonEl =\n",
              "          document.querySelector('#df-448de701-95d4-4ade-9394-6c218ce13bb0 button.colab-df-convert');\n",
              "        buttonEl.style.display =\n",
              "          google.colab.kernel.accessAllowed ? 'block' : 'none';\n",
              "\n",
              "        async function convertToInteractive(key) {\n",
              "          const element = document.querySelector('#df-448de701-95d4-4ade-9394-6c218ce13bb0');\n",
              "          const dataTable =\n",
              "            await google.colab.kernel.invokeFunction('convertToInteractive',\n",
              "                                                     [key], {});\n",
              "          if (!dataTable) return;\n",
              "\n",
              "          const docLinkHtml = 'Like what you see? Visit the ' +\n",
              "            '<a target=\"_blank\" href=https://colab.research.google.com/notebooks/data_table.ipynb>data table notebook</a>'\n",
              "            + ' to learn more about interactive tables.';\n",
              "          element.innerHTML = '';\n",
              "          dataTable['output_type'] = 'display_data';\n",
              "          await google.colab.output.renderOutput(dataTable, element);\n",
              "          const docLink = document.createElement('div');\n",
              "          docLink.innerHTML = docLinkHtml;\n",
              "          element.appendChild(docLink);\n",
              "        }\n",
              "      </script>\n",
              "    </div>\n",
              "  </div>\n",
              "  "
            ]
          },
          "metadata": {},
          "execution_count": 22
        }
      ]
    },
    {
      "cell_type": "markdown",
      "source": [
        "**My own example 32 - Adding the Speed factor columne to the data frame**"
      ],
      "metadata": {
        "id": "_IjH2K6ldJAQ"
      }
    },
    {
      "cell_type": "code",
      "source": [
        "df = df.assign(Speed_Factor=[df.loc[df['Languages'] == 'Java', 'Average Secs'].iloc[0] / df.loc[df['Languages'] == 'Phyton', 'Average Secs'].iloc[0],\n",
        "                             df.loc[df['Languages'] == 'Java', 'Average Secs'].iloc[0] / df.loc[df['Languages'] == 'C', 'Average Secs'].iloc[0],\n",
        "                             df.loc[df['Languages'] == 'Java', 'Average Secs'].iloc[0] / df.loc[df['Languages'] == 'C++', 'Average Secs'].iloc[0],\n",
        "                             df.loc[df['Languages'] == 'Java', 'Average Secs'].iloc[0] / df.loc[df['Languages'] == 'Java', 'Average Secs'].iloc[0],\n",
        "                             df.loc[df['Languages'] == 'Java', 'Average Secs'].iloc[0] / df.loc[df['Languages'] == 'JavaScript', 'Average Secs'].iloc[0]])\n",
        "print(df)"
      ],
      "metadata": {
        "id": "kyTyiXaRPgBR",
        "outputId": "1d9707c1-7acb-4a24-f1f4-f808b14ccf96",
        "colab": {
          "base_uri": "https://localhost:8080/"
        }
      },
      "execution_count": 24,
      "outputs": [
        {
          "output_type": "stream",
          "name": "stdout",
          "text": [
            "    Languages  Average Secs  Speed_Factor\n",
            "0      Phyton  1.247108e+01  9.060963e-09\n",
            "2           C  1.247108e+01  9.060963e-09\n",
            "2           C  8.744540e-01  9.060963e-09\n",
            "3         C++  1.721420e-01  6.564348e-07\n",
            "4        Java  1.130000e-07  1.000000e+00\n",
            "5  JavaScript  4.893000e-01  2.309422e-07\n"
          ]
        }
      ]
    },
    {
      "cell_type": "markdown",
      "source": [
        "**My own example 33 - Sorting the the data frame by average execution time**"
      ],
      "metadata": {
        "id": "CjiN21fvdRch"
      }
    },
    {
      "cell_type": "code",
      "source": [
        "df = df.sort_values('Average Secs')\n",
        "df"
      ],
      "metadata": {
        "id": "d8eiDHB0GpBF",
        "outputId": "1f415956-0843-46c3-f64c-901178897df5",
        "colab": {
          "base_uri": "https://localhost:8080/",
          "height": 237
        }
      },
      "execution_count": 26,
      "outputs": [
        {
          "output_type": "execute_result",
          "data": {
            "text/plain": [
              "    Languages  Average Secs  Speed_Factor\n",
              "4        Java  1.130000e-07  1.000000e+00\n",
              "3         C++  1.721420e-01  6.564348e-07\n",
              "5  JavaScript  4.893000e-01  2.309422e-07\n",
              "2           C  8.744540e-01  9.060963e-09\n",
              "0      Phyton  1.247108e+01  9.060963e-09\n",
              "2           C  1.247108e+01  9.060963e-09"
            ],
            "text/html": [
              "\n",
              "  <div id=\"df-c815dcc9-dcae-43ff-8257-d84b5569bcde\">\n",
              "    <div class=\"colab-df-container\">\n",
              "      <div>\n",
              "<style scoped>\n",
              "    .dataframe tbody tr th:only-of-type {\n",
              "        vertical-align: middle;\n",
              "    }\n",
              "\n",
              "    .dataframe tbody tr th {\n",
              "        vertical-align: top;\n",
              "    }\n",
              "\n",
              "    .dataframe thead th {\n",
              "        text-align: right;\n",
              "    }\n",
              "</style>\n",
              "<table border=\"1\" class=\"dataframe\">\n",
              "  <thead>\n",
              "    <tr style=\"text-align: right;\">\n",
              "      <th></th>\n",
              "      <th>Languages</th>\n",
              "      <th>Average Secs</th>\n",
              "      <th>Speed_Factor</th>\n",
              "    </tr>\n",
              "  </thead>\n",
              "  <tbody>\n",
              "    <tr>\n",
              "      <th>4</th>\n",
              "      <td>Java</td>\n",
              "      <td>1.130000e-07</td>\n",
              "      <td>1.000000e+00</td>\n",
              "    </tr>\n",
              "    <tr>\n",
              "      <th>3</th>\n",
              "      <td>C++</td>\n",
              "      <td>1.721420e-01</td>\n",
              "      <td>6.564348e-07</td>\n",
              "    </tr>\n",
              "    <tr>\n",
              "      <th>5</th>\n",
              "      <td>JavaScript</td>\n",
              "      <td>4.893000e-01</td>\n",
              "      <td>2.309422e-07</td>\n",
              "    </tr>\n",
              "    <tr>\n",
              "      <th>2</th>\n",
              "      <td>C</td>\n",
              "      <td>8.744540e-01</td>\n",
              "      <td>9.060963e-09</td>\n",
              "    </tr>\n",
              "    <tr>\n",
              "      <th>0</th>\n",
              "      <td>Phyton</td>\n",
              "      <td>1.247108e+01</td>\n",
              "      <td>9.060963e-09</td>\n",
              "    </tr>\n",
              "    <tr>\n",
              "      <th>2</th>\n",
              "      <td>C</td>\n",
              "      <td>1.247108e+01</td>\n",
              "      <td>9.060963e-09</td>\n",
              "    </tr>\n",
              "  </tbody>\n",
              "</table>\n",
              "</div>\n",
              "      <button class=\"colab-df-convert\" onclick=\"convertToInteractive('df-c815dcc9-dcae-43ff-8257-d84b5569bcde')\"\n",
              "              title=\"Convert this dataframe to an interactive table.\"\n",
              "              style=\"display:none;\">\n",
              "        \n",
              "  <svg xmlns=\"http://www.w3.org/2000/svg\" height=\"24px\"viewBox=\"0 0 24 24\"\n",
              "       width=\"24px\">\n",
              "    <path d=\"M0 0h24v24H0V0z\" fill=\"none\"/>\n",
              "    <path d=\"M18.56 5.44l.94 2.06.94-2.06 2.06-.94-2.06-.94-.94-2.06-.94 2.06-2.06.94zm-11 1L8.5 8.5l.94-2.06 2.06-.94-2.06-.94L8.5 2.5l-.94 2.06-2.06.94zm10 10l.94 2.06.94-2.06 2.06-.94-2.06-.94-.94-2.06-.94 2.06-2.06.94z\"/><path d=\"M17.41 7.96l-1.37-1.37c-.4-.4-.92-.59-1.43-.59-.52 0-1.04.2-1.43.59L10.3 9.45l-7.72 7.72c-.78.78-.78 2.05 0 2.83L4 21.41c.39.39.9.59 1.41.59.51 0 1.02-.2 1.41-.59l7.78-7.78 2.81-2.81c.8-.78.8-2.07 0-2.86zM5.41 20L4 18.59l7.72-7.72 1.47 1.35L5.41 20z\"/>\n",
              "  </svg>\n",
              "      </button>\n",
              "      \n",
              "  <style>\n",
              "    .colab-df-container {\n",
              "      display:flex;\n",
              "      flex-wrap:wrap;\n",
              "      gap: 12px;\n",
              "    }\n",
              "\n",
              "    .colab-df-convert {\n",
              "      background-color: #E8F0FE;\n",
              "      border: none;\n",
              "      border-radius: 50%;\n",
              "      cursor: pointer;\n",
              "      display: none;\n",
              "      fill: #1967D2;\n",
              "      height: 32px;\n",
              "      padding: 0 0 0 0;\n",
              "      width: 32px;\n",
              "    }\n",
              "\n",
              "    .colab-df-convert:hover {\n",
              "      background-color: #E2EBFA;\n",
              "      box-shadow: 0px 1px 2px rgba(60, 64, 67, 0.3), 0px 1px 3px 1px rgba(60, 64, 67, 0.15);\n",
              "      fill: #174EA6;\n",
              "    }\n",
              "\n",
              "    [theme=dark] .colab-df-convert {\n",
              "      background-color: #3B4455;\n",
              "      fill: #D2E3FC;\n",
              "    }\n",
              "\n",
              "    [theme=dark] .colab-df-convert:hover {\n",
              "      background-color: #434B5C;\n",
              "      box-shadow: 0px 1px 3px 1px rgba(0, 0, 0, 0.15);\n",
              "      filter: drop-shadow(0px 1px 2px rgba(0, 0, 0, 0.3));\n",
              "      fill: #FFFFFF;\n",
              "    }\n",
              "  </style>\n",
              "\n",
              "      <script>\n",
              "        const buttonEl =\n",
              "          document.querySelector('#df-c815dcc9-dcae-43ff-8257-d84b5569bcde button.colab-df-convert');\n",
              "        buttonEl.style.display =\n",
              "          google.colab.kernel.accessAllowed ? 'block' : 'none';\n",
              "\n",
              "        async function convertToInteractive(key) {\n",
              "          const element = document.querySelector('#df-c815dcc9-dcae-43ff-8257-d84b5569bcde');\n",
              "          const dataTable =\n",
              "            await google.colab.kernel.invokeFunction('convertToInteractive',\n",
              "                                                     [key], {});\n",
              "          if (!dataTable) return;\n",
              "\n",
              "          const docLinkHtml = 'Like what you see? Visit the ' +\n",
              "            '<a target=\"_blank\" href=https://colab.research.google.com/notebooks/data_table.ipynb>data table notebook</a>'\n",
              "            + ' to learn more about interactive tables.';\n",
              "          element.innerHTML = '';\n",
              "          dataTable['output_type'] = 'display_data';\n",
              "          await google.colab.output.renderOutput(dataTable, element);\n",
              "          const docLink = document.createElement('div');\n",
              "          docLink.innerHTML = docLinkHtml;\n",
              "          element.appendChild(docLink);\n",
              "        }\n",
              "      </script>\n",
              "    </div>\n",
              "  </div>\n",
              "  "
            ]
          },
          "metadata": {},
          "execution_count": 26
        }
      ]
    },
    {
      "cell_type": "markdown",
      "metadata": {
        "id": "5RlZ-kCGiXcO"
      },
      "source": [
        "## Why is the Python Version so Much Slower?"
      ]
    },
    {
      "cell_type": "code",
      "execution_count": 27,
      "metadata": {
        "id": "rWOUuY4QiXcP",
        "outputId": "89d89d85-7951-447a-fee5-7d7b24bf5bd6",
        "colab": {
          "base_uri": "https://localhost:8080/"
        }
      },
      "outputs": [
        {
          "output_type": "execute_result",
          "data": {
            "text/plain": [
              "[1, (4+0j), 9.0, 'fourfourfourfour']"
            ]
          },
          "metadata": {},
          "execution_count": 27
        }
      ],
      "source": [
        "# Dynamic typing.\n",
        "def mul_elemwise(xs, ys):\n",
        "    return [x * y for x, y in zip(xs, ys)]\n",
        "\n",
        "mul_elemwise([1, 2, 3, 4], [1, 2 + 0j, 3.0, 'four'])\n",
        "#[type(x) for x in _]"
      ]
    },
    {
      "cell_type": "code",
      "execution_count": 28,
      "metadata": {
        "id": "cW0Jexk6iXcP",
        "outputId": "19275a4e-f252-45bc-d4e7-f1b5b1bdc41c",
        "colab": {
          "base_uri": "https://localhost:8080/"
        }
      },
      "outputs": [
        {
          "output_type": "stream",
          "name": "stdout",
          "text": [
            "  1           0 LOAD_NAME                0 (a)\n",
            "              2 LOAD_NAME                1 (b)\n",
            "              4 LOAD_NAME                2 (c)\n",
            "              6 BINARY_MULTIPLY\n",
            "              8 BINARY_ADD\n",
            "             10 RETURN_VALUE\n"
          ]
        }
      ],
      "source": [
        "# Interpretation overhead.\n",
        "source_code = 'a + b * c'\n",
        "bytecode = compile(source_code, '', 'eval')\n",
        "import dis; dis.dis(bytecode)"
      ]
    },
    {
      "cell_type": "markdown",
      "metadata": {
        "id": "BdvCAketiXcP"
      },
      "source": [
        "## Why is the Python Version so Slow?\n",
        "- Dynamic typing means that every single operation requires dispatching on the input type.\n",
        "- Having an interpreter means that every instruction is fetched and dispatched at runtime.\n",
        "- Other overheads:\n",
        "  - Arbitrary-size integers.\n",
        "  - Reference-counted garbage collection."
      ]
    },
    {
      "cell_type": "markdown",
      "metadata": {
        "id": "zvFKYtobiXcP"
      },
      "source": [
        "> This is the paradox that we have to work with when we're doing scientific or numerically-intensive Python. What makes Python fast for development -- this high-level, interpreted, and dynamically-typed aspect of the language -- is exactly what makes it slow for code execution.\n",
        "\n",
        "- Jake VanderPlas, [*Losing Your Loops: Fast Numerical Computing with NumPy*](https://www.youtube.com/watch?v=EEUXKG97YRw)"
      ]
    },
    {
      "cell_type": "markdown",
      "metadata": {
        "id": "UqE431pkiXcP"
      },
      "source": [
        "# What Do We Do?"
      ]
    },
    {
      "cell_type": "markdown",
      "metadata": {
        "id": "4uh7h3HyiXcP"
      },
      "source": [
        "<center><img src=\"https://raw.githubusercontent.com/ssanderson/pydata-toolbox/master/notebooks/images/runaway.gif\" alt=\"Drawing\" style=\"width: 50%;\"/></center>"
      ]
    },
    {
      "cell_type": "markdown",
      "metadata": {
        "id": "-9z62YT1iXcP"
      },
      "source": [
        "<center><img src=\"https://raw.githubusercontent.com/ssanderson/pydata-toolbox/master/notebooks/images/thisisfine.gif\" alt=\"Drawing\" style=\"width: 1080px;\"/></center>"
      ]
    },
    {
      "cell_type": "markdown",
      "metadata": {
        "id": "0Moc6UrkiXcQ"
      },
      "source": [
        "- Python is slow for numerical computation because it performs dynamic dispatch on every operation we perform..."
      ]
    },
    {
      "cell_type": "markdown",
      "metadata": {
        "collapsed": true,
        "id": "U4gN8tp2iXcQ"
      },
      "source": [
        "- ...but often, we just want to do the same thing over and over in a loop!"
      ]
    },
    {
      "cell_type": "markdown",
      "metadata": {
        "id": "Yu0ySyEhiXcQ"
      },
      "source": [
        "- If we don't need Python's dynamicism, we don't want to pay (much) for it."
      ]
    },
    {
      "cell_type": "markdown",
      "metadata": {
        "id": "KUwG9isRiXcQ"
      },
      "source": [
        "- **Idea:** Dispatch **once per operation** instead of **once per element**."
      ]
    },
    {
      "cell_type": "code",
      "execution_count": 30,
      "metadata": {
        "id": "62itImahiXcQ",
        "outputId": "d3971be4-0fb9-4018-e66c-0f961d12597f",
        "colab": {
          "base_uri": "https://localhost:8080/"
        }
      },
      "outputs": [
        {
          "output_type": "execute_result",
          "data": {
            "text/plain": [
              "array([1, 2, 3, 4])"
            ]
          },
          "metadata": {},
          "execution_count": 30
        }
      ],
      "source": [
        "import numpy as np\n",
        "\n",
        "data = np.array([1, 2, 3, 4])\n",
        "data"
      ]
    },
    {
      "cell_type": "code",
      "execution_count": 31,
      "metadata": {
        "id": "q6qikr_tiXcQ",
        "outputId": "17ce435a-7799-4353-bef7-0b5f4da3ba2a",
        "colab": {
          "base_uri": "https://localhost:8080/"
        }
      },
      "outputs": [
        {
          "output_type": "execute_result",
          "data": {
            "text/plain": [
              "array([2, 4, 6, 8])"
            ]
          },
          "metadata": {},
          "execution_count": 31
        }
      ],
      "source": [
        "data + data"
      ]
    },
    {
      "cell_type": "code",
      "execution_count": 32,
      "metadata": {
        "id": "26QlWUw8iXcQ",
        "outputId": "8d639c81-a2af-4cd5-c3e9-ab8dfbe357d7",
        "colab": {
          "base_uri": "https://localhost:8080/"
        }
      },
      "outputs": [
        {
          "output_type": "stream",
          "name": "stdout",
          "text": [
            "CPU times: user 78 µs, sys: 1 µs, total: 79 µs\n",
            "Wall time: 86.1 µs\n"
          ]
        },
        {
          "output_type": "execute_result",
          "data": {
            "text/plain": [
              "30"
            ]
          },
          "metadata": {},
          "execution_count": 32
        }
      ],
      "source": [
        "%%time\n",
        "# Naive dot product\n",
        "(data * data).sum()"
      ]
    },
    {
      "cell_type": "code",
      "execution_count": 33,
      "metadata": {
        "id": "xoigDrpEiXcQ",
        "outputId": "9817cc0c-01fe-4636-d056-784374c8a645",
        "colab": {
          "base_uri": "https://localhost:8080/"
        }
      },
      "outputs": [
        {
          "output_type": "stream",
          "name": "stdout",
          "text": [
            "CPU times: user 38 µs, sys: 1 µs, total: 39 µs\n",
            "Wall time: 41.5 µs\n"
          ]
        },
        {
          "output_type": "execute_result",
          "data": {
            "text/plain": [
              "30"
            ]
          },
          "metadata": {},
          "execution_count": 33
        }
      ],
      "source": [
        "%%time\n",
        "# Built-in dot product.\n",
        "data.dot(data)"
      ]
    },
    {
      "cell_type": "code",
      "execution_count": 41,
      "metadata": {
        "id": "tcewetQ0iXcR",
        "outputId": "6ecc1df2-6f9e-42f3-9950-0e8f33242961",
        "colab": {
          "base_uri": "https://localhost:8080/"
        }
      },
      "outputs": [
        {
          "output_type": "stream",
          "name": "stdout",
          "text": [
            "CPU times: user 65 µs, sys: 1e+03 ns, total: 66 µs\n",
            "Wall time: 70.3 µs\n"
          ]
        },
        {
          "output_type": "execute_result",
          "data": {
            "text/plain": [
              "30.0"
            ]
          },
          "metadata": {},
          "execution_count": 41
        }
      ],
      "source": [
        "%%time\n",
        "fortran_dot_product(data, data)"
      ]
    },
    {
      "cell_type": "code",
      "execution_count": null,
      "metadata": {
        "id": "Whkcgo1xiXcR"
      },
      "outputs": [],
      "source": [
        "# Numpy won't allow us to write a string into an int array.\n",
        "data[0] = \"foo\""
      ]
    },
    {
      "cell_type": "code",
      "execution_count": null,
      "metadata": {
        "collapsed": true,
        "id": "OM_YUwF0iXcR"
      },
      "outputs": [],
      "source": [
        "# We also can't grow an array once it's created.\n",
        "data.append(3)"
      ]
    },
    {
      "cell_type": "code",
      "execution_count": 44,
      "metadata": {
        "collapsed": true,
        "id": "_ByTInO5iXcR",
        "colab": {
          "base_uri": "https://localhost:8080/"
        },
        "outputId": "7872dcfc-09d6-4d0e-b39d-369b211875ab"
      },
      "outputs": [
        {
          "output_type": "execute_result",
          "data": {
            "text/plain": [
              "array([[1, 2],\n",
              "       [3, 4]])"
            ]
          },
          "metadata": {},
          "execution_count": 44
        }
      ],
      "source": [
        "# We **can** reshape an array though.\n",
        "two_by_two = data.reshape(2, 2)\n",
        "two_by_two"
      ]
    },
    {
      "cell_type": "markdown",
      "metadata": {
        "id": "rqUM9z90iXcR"
      },
      "source": [
        "Numpy arrays are:\n",
        "\n",
        "- Fixed-type"
      ]
    },
    {
      "cell_type": "markdown",
      "metadata": {
        "id": "xI5M1gzviXcR"
      },
      "source": [
        "- Size-immutable"
      ]
    },
    {
      "cell_type": "markdown",
      "metadata": {
        "id": "Xb7Dkl2tiXcS"
      },
      "source": [
        "- Multi-dimensional"
      ]
    },
    {
      "cell_type": "markdown",
      "metadata": {
        "id": "r0oMRqQXiXcS"
      },
      "source": [
        "- Fast\\*"
      ]
    },
    {
      "cell_type": "markdown",
      "metadata": {
        "id": "kz1MurDBiXcS"
      },
      "source": [
        "\\* If you use them correctly."
      ]
    },
    {
      "cell_type": "markdown",
      "metadata": {
        "id": "Qivn_IZOiXcS"
      },
      "source": [
        "# What's in an Array?"
      ]
    },
    {
      "cell_type": "code",
      "execution_count": 45,
      "metadata": {
        "id": "vAuc9ZoYiXcS",
        "outputId": "816742c0-351b-404f-f475-35100404f067",
        "colab": {
          "base_uri": "https://localhost:8080/"
        }
      },
      "outputs": [
        {
          "output_type": "stream",
          "name": "stdout",
          "text": [
            "Array:\n",
            "[[1 2 3]\n",
            " [4 5 6]]\n",
            "===========\n",
            "DType: int16\n",
            "Shape: (2, 3)\n",
            "Strides: (6, 2)\n",
            "Data: b'\\x01\\x00\\x02\\x00\\x03\\x00\\x04\\x00\\x05\\x00\\x06\\x00'\n"
          ]
        }
      ],
      "source": [
        "arr = np.array([1, 2, 3, 4, 5, 6], dtype='int16').reshape(2, 3)\n",
        "print(\"Array:\\n\", arr, sep='')\n",
        "print(\"===========\")\n",
        "print(\"DType:\", arr.dtype)\n",
        "print(\"Shape:\", arr.shape)\n",
        "print(\"Strides:\", arr.strides)\n",
        "print(\"Data:\", arr.data.tobytes())"
      ]
    },
    {
      "cell_type": "markdown",
      "metadata": {
        "id": "K81LXWsCiXcS"
      },
      "source": [
        "# Core Operations\n",
        "\n",
        "- Vectorized **ufuncs** for elementwise operations.\n",
        "- Fancy indexing and masking for selection and filtering.\n",
        "- Aggregations across axes.\n",
        "- Broadcasting"
      ]
    },
    {
      "cell_type": "markdown",
      "metadata": {
        "id": "kwVm_T0UiXcS"
      },
      "source": [
        "# UFuncs\n",
        "\n",
        "UFuncs (universal functions) are functions that operate elementwise on one or more arrays."
      ]
    },
    {
      "cell_type": "code",
      "execution_count": 46,
      "metadata": {
        "id": "bltDIE9jiXcS",
        "outputId": "68697c80-8d92-44ef-a962-980739689717",
        "colab": {
          "base_uri": "https://localhost:8080/"
        }
      },
      "outputs": [
        {
          "output_type": "execute_result",
          "data": {
            "text/plain": [
              "array([[ 0,  1,  2,  3,  4],\n",
              "       [ 5,  6,  7,  8,  9],\n",
              "       [10, 11, 12, 13, 14]])"
            ]
          },
          "metadata": {},
          "execution_count": 46
        }
      ],
      "source": [
        "data = np.arange(15).reshape(3, 5)\n",
        "data"
      ]
    },
    {
      "cell_type": "code",
      "execution_count": 47,
      "metadata": {
        "id": "STwE0VCpiXcT",
        "outputId": "c39f1b57-900c-4b25-d94c-a81f29b1ac9f",
        "colab": {
          "base_uri": "https://localhost:8080/"
        }
      },
      "outputs": [
        {
          "output_type": "execute_result",
          "data": {
            "text/plain": [
              "array([[  0,   1,   4,   9,  16],\n",
              "       [ 25,  36,  49,  64,  81],\n",
              "       [100, 121, 144, 169, 196]])"
            ]
          },
          "metadata": {},
          "execution_count": 47
        }
      ],
      "source": [
        "# Binary operators.\n",
        "data * data"
      ]
    },
    {
      "cell_type": "code",
      "execution_count": 48,
      "metadata": {
        "id": "N__jqMifiXcT",
        "outputId": "638173eb-c27a-491c-b085-10b020e43448",
        "colab": {
          "base_uri": "https://localhost:8080/"
        }
      },
      "outputs": [
        {
          "output_type": "execute_result",
          "data": {
            "text/plain": [
              "array([[0.        , 1.        , 1.41421356, 1.73205081, 2.        ],\n",
              "       [2.23606798, 2.44948974, 2.64575131, 2.82842712, 3.        ],\n",
              "       [3.16227766, 3.31662479, 3.46410162, 3.60555128, 3.74165739]])"
            ]
          },
          "metadata": {},
          "execution_count": 48
        }
      ],
      "source": [
        "# Unary functions.\n",
        "np.sqrt(data)"
      ]
    },
    {
      "cell_type": "code",
      "execution_count": 49,
      "metadata": {
        "id": "j-2fPm3LiXcT",
        "outputId": "50c8dbcc-28f5-4c75-ae1e-15fcf97e66c3",
        "colab": {
          "base_uri": "https://localhost:8080/"
        }
      },
      "outputs": [
        {
          "output_type": "execute_result",
          "data": {
            "text/plain": [
              "array([[ True, False, False,  True, False],\n",
              "       [False,  True, False, False,  True],\n",
              "       [False, False,  True, False, False]])"
            ]
          },
          "metadata": {},
          "execution_count": 49
        }
      ],
      "source": [
        "# Comparison operations\n",
        "(data % 3) == 0"
      ]
    },
    {
      "cell_type": "code",
      "execution_count": 50,
      "metadata": {
        "id": "iDUXVIuhiXcT",
        "outputId": "f7c38a39-4560-409f-844b-ab2a668bb99d",
        "colab": {
          "base_uri": "https://localhost:8080/"
        }
      },
      "outputs": [
        {
          "output_type": "execute_result",
          "data": {
            "text/plain": [
              "array([[ True, False, False, False, False],\n",
              "       [False,  True, False, False, False],\n",
              "       [False, False,  True, False, False]])"
            ]
          },
          "metadata": {},
          "execution_count": 50
        }
      ],
      "source": [
        "# Boolean combinators.\n",
        "((data % 2) == 0) & ((data % 3) == 0)"
      ]
    },
    {
      "cell_type": "code",
      "execution_count": 51,
      "metadata": {
        "id": "f2FWSuiJiXcT",
        "outputId": "29456a72-120a-402e-b4f5-aa27d7f92d05",
        "colab": {
          "base_uri": "https://localhost:8080/"
        }
      },
      "outputs": [
        {
          "output_type": "execute_result",
          "data": {
            "text/plain": [
              "array([[ 30,  80, 130],\n",
              "       [ 80, 255, 430],\n",
              "       [130, 430, 730]])"
            ]
          },
          "metadata": {},
          "execution_count": 51
        }
      ],
      "source": [
        "# as of python 3.5, @ is matrix-multiply\n",
        "data @ data.T"
      ]
    },
    {
      "cell_type": "markdown",
      "metadata": {
        "id": "9EsiKbSCiXcT"
      },
      "source": [
        "# UFuncs Review\n",
        "\n",
        "- UFuncs provide efficient elementwise operations applied across one or more arrays.\n",
        "- Arithmetic Operators (`+`, `*`, `/`)\n",
        "- Comparisons (`==`, `>`, `!=`)\n",
        "- Boolean Operators (`&`, `|`, `^`)\n",
        "- Trigonometric Functions (`sin`, `cos`)\n",
        "- Transcendental Functions (`exp`, `log`)"
      ]
    },
    {
      "cell_type": "markdown",
      "metadata": {
        "id": "GGLCgF20iXcU"
      },
      "source": [
        "# Selections"
      ]
    },
    {
      "cell_type": "markdown",
      "metadata": {
        "id": "3SAH9am8iXcU"
      },
      "source": [
        "We often want to perform an operation on just a subset of our data."
      ]
    },
    {
      "cell_type": "code",
      "execution_count": 52,
      "metadata": {
        "id": "AWmtLHYwiXcU",
        "outputId": "a338e726-58a0-491f-c040-7c956fdfe22e",
        "colab": {
          "base_uri": "https://localhost:8080/"
        }
      },
      "outputs": [
        {
          "output_type": "execute_result",
          "data": {
            "text/plain": [
              "array([0.        , 0.34185385, 0.64251645, 0.86575984, 0.98468459,\n",
              "       0.98496101, 0.8665558 , 0.64373604, 0.34335012, 0.00159265])"
            ]
          },
          "metadata": {},
          "execution_count": 52
        }
      ],
      "source": [
        "sines = np.sin(np.linspace(0, 3.14, 10))\n",
        "cosines = np.cos(np.linspace(0, 3.14, 10))\n",
        "sines"
      ]
    },
    {
      "cell_type": "code",
      "execution_count": 53,
      "metadata": {
        "id": "u8LHY0j9iXcU",
        "outputId": "2acb706d-ba85-41d6-fad5-b160a04425bb",
        "colab": {
          "base_uri": "https://localhost:8080/"
        }
      },
      "outputs": [
        {
          "output_type": "execute_result",
          "data": {
            "text/plain": [
              "0.0"
            ]
          },
          "metadata": {},
          "execution_count": 53
        }
      ],
      "source": [
        "# Slicing works with the same semantics as Python lists.\n",
        "sines[0]"
      ]
    },
    {
      "cell_type": "code",
      "execution_count": 54,
      "metadata": {
        "id": "hh6dTObciXcU",
        "outputId": "70fe91cb-9bd3-4575-ef4f-e2b9e3b3fdfa",
        "colab": {
          "base_uri": "https://localhost:8080/"
        }
      },
      "outputs": [
        {
          "output_type": "execute_result",
          "data": {
            "text/plain": [
              "array([0.        , 0.34185385, 0.64251645])"
            ]
          },
          "metadata": {},
          "execution_count": 54
        }
      ],
      "source": [
        "sines[:3]  # First three elements  "
      ]
    },
    {
      "cell_type": "code",
      "execution_count": 55,
      "metadata": {
        "id": "rqB_uVABiXcU",
        "outputId": "e4bc17c5-b81b-4b01-892c-d5ff3ea4d5dc",
        "colab": {
          "base_uri": "https://localhost:8080/"
        }
      },
      "outputs": [
        {
          "output_type": "execute_result",
          "data": {
            "text/plain": [
              "array([0.98496101, 0.8665558 , 0.64373604, 0.34335012, 0.00159265])"
            ]
          },
          "metadata": {},
          "execution_count": 55
        }
      ],
      "source": [
        "sines[5:]  # Elements from 5 on."
      ]
    },
    {
      "cell_type": "code",
      "execution_count": 56,
      "metadata": {
        "id": "j2KDBhZaiXcU",
        "outputId": "3a51a605-2027-48e1-ea72-c4ac6e3d3873",
        "colab": {
          "base_uri": "https://localhost:8080/"
        }
      },
      "outputs": [
        {
          "output_type": "execute_result",
          "data": {
            "text/plain": [
              "array([0.        , 0.64251645, 0.98468459, 0.8665558 , 0.34335012])"
            ]
          },
          "metadata": {},
          "execution_count": 56
        }
      ],
      "source": [
        "sines[::2]  # Every other element."
      ]
    },
    {
      "cell_type": "code",
      "execution_count": 57,
      "metadata": {
        "id": "lR7JjjhjiXcV",
        "outputId": "7cd938f0-1432-40bd-b725-7ec926c87510",
        "colab": {
          "base_uri": "https://localhost:8080/"
        }
      },
      "outputs": [
        {
          "output_type": "stream",
          "name": "stdout",
          "text": [
            "sines:\n",
            " [0.         0.34185385 0.64251645 0.86575984 0.98468459 0.98496101\n",
            " 0.8665558  0.64373604 0.34335012 0.00159265]\n",
            "sines > 0.5:\n",
            " [False False  True  True  True  True  True  True False False]\n",
            "sines[sines > 0.5]:\n",
            " [0.64251645 0.86575984 0.98468459 0.98496101 0.8665558  0.64373604]\n"
          ]
        }
      ],
      "source": [
        "# More interesting: we can index with boolean arrays to filter by a predicate.\n",
        "print(\"sines:\\n\", sines)\n",
        "print(\"sines > 0.5:\\n\", sines > 0.5)\n",
        "print(\"sines[sines > 0.5]:\\n\", sines[sines > 0.5])"
      ]
    },
    {
      "cell_type": "code",
      "execution_count": 58,
      "metadata": {
        "id": "gORuDL3RiXcV",
        "outputId": "97b48016-807c-431b-f4d8-f1e4446eca35",
        "colab": {
          "base_uri": "https://localhost:8080/"
        }
      },
      "outputs": [
        {
          "output_type": "stream",
          "name": "stdout",
          "text": [
            "[0.         0.34185385 0.64251645 0.86575984 0.98468459 0.98496101\n",
            " 0.8665558  0.64373604 0.34335012 0.00159265]\n"
          ]
        },
        {
          "output_type": "execute_result",
          "data": {
            "text/plain": [
              "array([0.        , 0.98468459, 0.64373604])"
            ]
          },
          "metadata": {},
          "execution_count": 58
        }
      ],
      "source": [
        "# We index with lists/arrays of integers to select values at those indices.\n",
        "print(sines)\n",
        "sines[[0, 4, 7]]"
      ]
    },
    {
      "cell_type": "code",
      "execution_count": 59,
      "metadata": {
        "collapsed": true,
        "id": "Gu2vDHNgiXcV"
      },
      "outputs": [],
      "source": [
        "# Index arrays are often used for sorting one or more arrays.\n",
        "unsorted_data = np.array([1, 3, 2, 12, -1, 5, 2])"
      ]
    },
    {
      "cell_type": "code",
      "execution_count": 60,
      "metadata": {
        "id": "uroIWxu1iXcV",
        "outputId": "737299c2-6863-4657-895b-8c9441148506",
        "colab": {
          "base_uri": "https://localhost:8080/"
        }
      },
      "outputs": [
        {
          "output_type": "execute_result",
          "data": {
            "text/plain": [
              "array([4, 0, 2, 6, 1, 5, 3])"
            ]
          },
          "metadata": {},
          "execution_count": 60
        }
      ],
      "source": [
        "sort_indices = np.argsort(unsorted_data)\n",
        "sort_indices"
      ]
    },
    {
      "cell_type": "code",
      "execution_count": 61,
      "metadata": {
        "id": "igwLM_b1iXcV",
        "outputId": "d728c6f0-d11a-4fb7-fdbf-2ad637eb53c9",
        "colab": {
          "base_uri": "https://localhost:8080/"
        }
      },
      "outputs": [
        {
          "output_type": "execute_result",
          "data": {
            "text/plain": [
              "array([-1,  1,  2,  2,  3,  5, 12])"
            ]
          },
          "metadata": {},
          "execution_count": 61
        }
      ],
      "source": [
        "unsorted_data[sort_indices]"
      ]
    },
    {
      "cell_type": "code",
      "execution_count": 62,
      "metadata": {
        "collapsed": true,
        "id": "7IRVEVvdiXcV"
      },
      "outputs": [],
      "source": [
        "market_caps = np.array([12, 6, 10, 5, 6])  # Presumably in dollars?\n",
        "assets = np.array(['A', 'B', 'C', 'D', 'E'])"
      ]
    },
    {
      "cell_type": "code",
      "execution_count": 63,
      "metadata": {
        "id": "jE8KVrn9iXcV",
        "outputId": "b8d88bf4-d61f-4018-96ff-c9a38e3fa43e",
        "colab": {
          "base_uri": "https://localhost:8080/"
        }
      },
      "outputs": [
        {
          "output_type": "execute_result",
          "data": {
            "text/plain": [
              "array(['D', 'B', 'E', 'C', 'A'], dtype='<U1')"
            ]
          },
          "metadata": {},
          "execution_count": 63
        }
      ],
      "source": [
        "# Sort assets by market cap by using the permutation that would sort market caps on ``assets``.\n",
        "sort_by_mcap = np.argsort(market_caps)\n",
        "assets[sort_by_mcap]"
      ]
    },
    {
      "cell_type": "code",
      "execution_count": 64,
      "metadata": {
        "scrolled": true,
        "id": "jaGW-7fTiXcW",
        "outputId": "e1675924-d009-4c6b-cb31-0154a9472705",
        "colab": {
          "base_uri": "https://localhost:8080/"
        }
      },
      "outputs": [
        {
          "output_type": "stream",
          "name": "stdout",
          "text": [
            "Dates:\n",
            " array(['2017-01-06', '2017-01-07', '2017-01-08'], dtype='datetime64[D]')\n",
            "Values:\n",
            " array([10, 15, 20])\n",
            "Calendar:\n",
            " array(['2017-01-03', '2017-01-04', '2017-01-05', '2017-01-06',\n",
            "       '2017-01-09', '2017-01-10', '2017-01-11', '2017-01-12',\n",
            "       '2017-01-13', '2017-01-17', '2017-01-18', '2017-01-19',\n",
            "       '2017-01-20', '2017-01-23', '2017-01-24', '2017-01-25',\n",
            "       '2017-01-26', '2017-01-27', '2017-01-30', '2017-01-31',\n",
            "       '2017-02-01'], dtype='datetime64[D]')\n"
          ]
        }
      ],
      "source": [
        "# Indexers are also useful for aligning data.\n",
        "print(\"Dates:\\n\", repr(event_dates))\n",
        "print(\"Values:\\n\", repr(event_values))\n",
        "print(\"Calendar:\\n\", repr(calendar))"
      ]
    },
    {
      "cell_type": "code",
      "execution_count": 65,
      "metadata": {
        "id": "Uo28AVcTiXcW",
        "outputId": "ae8c378d-1faa-43b8-c733-6612213b3476",
        "colab": {
          "base_uri": "https://localhost:8080/"
        }
      },
      "outputs": [
        {
          "output_type": "stream",
          "name": "stdout",
          "text": [
            "Raw Dates: ['2017-01-06' '2017-01-07' '2017-01-08']\n",
            "Indices: [3 4 4]\n",
            "Forward-Filled Dates: ['2017-01-06' '2017-01-09' '2017-01-09']\n"
          ]
        }
      ],
      "source": [
        "print(\"Raw Dates:\", event_dates)\n",
        "print(\"Indices:\", calendar.searchsorted(event_dates))\n",
        "print(\"Forward-Filled Dates:\", calendar[calendar.searchsorted(event_dates)])"
      ]
    },
    {
      "cell_type": "markdown",
      "metadata": {
        "id": "oDEVEEOriXcW"
      },
      "source": [
        "On multi-dimensional arrays, we can slice along each axis independently."
      ]
    },
    {
      "cell_type": "code",
      "execution_count": 66,
      "metadata": {
        "id": "prPSgZhniXcW",
        "outputId": "8853f5a3-0dcd-49b0-c452-a4900be1c4ad",
        "colab": {
          "base_uri": "https://localhost:8080/"
        }
      },
      "outputs": [
        {
          "output_type": "execute_result",
          "data": {
            "text/plain": [
              "array([[ 0,  1,  2,  3,  4],\n",
              "       [ 5,  6,  7,  8,  9],\n",
              "       [10, 11, 12, 13, 14],\n",
              "       [15, 16, 17, 18, 19],\n",
              "       [20, 21, 22, 23, 24]])"
            ]
          },
          "metadata": {},
          "execution_count": 66
        }
      ],
      "source": [
        "data = np.arange(25).reshape(5, 5)\n",
        "data"
      ]
    },
    {
      "cell_type": "code",
      "execution_count": 67,
      "metadata": {
        "id": "KAulAQ2yiXcW",
        "outputId": "dc8d5a3a-8635-45d6-8f60-36ff96ff0f2e",
        "colab": {
          "base_uri": "https://localhost:8080/"
        }
      },
      "outputs": [
        {
          "output_type": "execute_result",
          "data": {
            "text/plain": [
              "array([[0, 1],\n",
              "       [5, 6]])"
            ]
          },
          "metadata": {},
          "execution_count": 67
        }
      ],
      "source": [
        "data[:2, :2]  # First two rows and first two columns."
      ]
    },
    {
      "cell_type": "code",
      "execution_count": 68,
      "metadata": {
        "id": "f9_S0RcdiXcW",
        "outputId": "b94b7917-1626-41b5-e497-457a6195eb5d",
        "colab": {
          "base_uri": "https://localhost:8080/"
        }
      },
      "outputs": [
        {
          "output_type": "execute_result",
          "data": {
            "text/plain": [
              "array([[0, 4],\n",
              "       [5, 9]])"
            ]
          },
          "metadata": {},
          "execution_count": 68
        }
      ],
      "source": [
        "data[:2, [0, -1]]  # First two rows, first and last columns."
      ]
    },
    {
      "cell_type": "code",
      "execution_count": 69,
      "metadata": {
        "id": "rre5hGs9iXcW",
        "outputId": "3a95b2b0-d687-42b4-a57e-b12cf1695143",
        "colab": {
          "base_uri": "https://localhost:8080/"
        }
      },
      "outputs": [
        {
          "output_type": "execute_result",
          "data": {
            "text/plain": [
              "array([[ 0,  1,  2,  3,  4],\n",
              "       [10, 11, 12, 13, 14],\n",
              "       [20, 21, 22, 23, 24]])"
            ]
          },
          "metadata": {},
          "execution_count": 69
        }
      ],
      "source": [
        "data[(data[:, 0] % 2) == 0]  # Rows where the first column is divisible by two."
      ]
    },
    {
      "cell_type": "markdown",
      "metadata": {
        "id": "zl1zYEQgiXcX"
      },
      "source": [
        "# Selections Review\n",
        "\n",
        "- Indexing with an integer removes a dimension.\n",
        "- Slicing operations work on Numpy arrays the same way they do on lists.\n",
        "- Indexing with a boolean array filters to True locations.\n",
        "- Indexing with an integer array selects indices along an axis.\n",
        "- Multidimensional arrays can apply selections independently along different axes."
      ]
    },
    {
      "cell_type": "markdown",
      "metadata": {
        "id": "0tDspA_KiXcX"
      },
      "source": [
        "## Reductions\n",
        "\n",
        "Functions that reduce an array to a scalar."
      ]
    },
    {
      "cell_type": "markdown",
      "metadata": {
        "id": "1s42E1qCiXcX"
      },
      "source": [
        "$Var(X) = \\frac{1}{N}\\sqrt{\\sum_{i=1}^N (x_i - \\bar{x})^2}$"
      ]
    },
    {
      "cell_type": "code",
      "execution_count": 70,
      "metadata": {
        "collapsed": true,
        "id": "pkjccK94iXcX"
      },
      "outputs": [],
      "source": [
        "def variance(x):\n",
        "    return ((x - x.mean()) ** 2).sum() / len(x)"
      ]
    },
    {
      "cell_type": "code",
      "execution_count": 71,
      "metadata": {
        "id": "jqiZV_FMiXcX",
        "outputId": "9853bc2d-11f3-4151-d568-0cbc95ced347",
        "colab": {
          "base_uri": "https://localhost:8080/"
        }
      },
      "outputs": [
        {
          "output_type": "execute_result",
          "data": {
            "text/plain": [
              "1.1053005738837625"
            ]
          },
          "metadata": {},
          "execution_count": 71
        }
      ],
      "source": [
        "variance(np.random.standard_normal(1000))"
      ]
    },
    {
      "cell_type": "markdown",
      "metadata": {
        "id": "WHVBON1qiXcX"
      },
      "source": [
        "- `sum()` and `mean()` are both **reductions**."
      ]
    },
    {
      "cell_type": "markdown",
      "metadata": {
        "id": "w7gh4_vmiXcX"
      },
      "source": [
        "- In the simplest case, we use these to reduce an entire array into a single value..."
      ]
    },
    {
      "cell_type": "code",
      "execution_count": 72,
      "metadata": {
        "id": "Hxr-Py7ciXcY",
        "outputId": "3095ffa5-1e1d-483e-9997-6025581eb9e1",
        "colab": {
          "base_uri": "https://localhost:8080/"
        }
      },
      "outputs": [
        {
          "output_type": "execute_result",
          "data": {
            "text/plain": [
              "14.5"
            ]
          },
          "metadata": {},
          "execution_count": 72
        }
      ],
      "source": [
        "data = np.arange(30)\n",
        "data.mean()"
      ]
    },
    {
      "cell_type": "markdown",
      "metadata": {
        "id": "M1mqf-RfiXcY"
      },
      "source": [
        "- ...but we can do more interesting things with multi-dimensional arrays."
      ]
    },
    {
      "cell_type": "code",
      "execution_count": 73,
      "metadata": {
        "id": "okW92XNriXcY",
        "outputId": "2b960a7c-db1f-4a0d-807a-2836479a02f7",
        "colab": {
          "base_uri": "https://localhost:8080/"
        }
      },
      "outputs": [
        {
          "output_type": "execute_result",
          "data": {
            "text/plain": [
              "array([[ 0,  1,  2,  3,  4,  5,  6,  7,  8,  9],\n",
              "       [10, 11, 12, 13, 14, 15, 16, 17, 18, 19],\n",
              "       [20, 21, 22, 23, 24, 25, 26, 27, 28, 29]])"
            ]
          },
          "metadata": {},
          "execution_count": 73
        }
      ],
      "source": [
        "data = np.arange(30).reshape(3, 10)\n",
        "data"
      ]
    },
    {
      "cell_type": "code",
      "execution_count": 74,
      "metadata": {
        "id": "_DwCYNHQiXcY",
        "outputId": "d393c9f2-e188-40db-903f-8a2aaca74723",
        "colab": {
          "base_uri": "https://localhost:8080/"
        }
      },
      "outputs": [
        {
          "output_type": "execute_result",
          "data": {
            "text/plain": [
              "14.5"
            ]
          },
          "metadata": {},
          "execution_count": 74
        }
      ],
      "source": [
        "data.mean()"
      ]
    },
    {
      "cell_type": "code",
      "execution_count": 75,
      "metadata": {
        "id": "Z7S6mpm3iXcY",
        "outputId": "58a90735-f8fb-484d-998d-dd84765dc6b4",
        "colab": {
          "base_uri": "https://localhost:8080/"
        }
      },
      "outputs": [
        {
          "output_type": "execute_result",
          "data": {
            "text/plain": [
              "array([10., 11., 12., 13., 14., 15., 16., 17., 18., 19.])"
            ]
          },
          "metadata": {},
          "execution_count": 75
        }
      ],
      "source": [
        "data.mean(axis=0)"
      ]
    },
    {
      "cell_type": "code",
      "execution_count": 76,
      "metadata": {
        "id": "g-DOKtM4iXcY",
        "outputId": "55fe2709-befa-46dc-f38d-2b831afb3a7e",
        "colab": {
          "base_uri": "https://localhost:8080/"
        }
      },
      "outputs": [
        {
          "output_type": "execute_result",
          "data": {
            "text/plain": [
              "array([ 4.5, 14.5, 24.5])"
            ]
          },
          "metadata": {},
          "execution_count": 76
        }
      ],
      "source": [
        "data.mean(axis=1)"
      ]
    },
    {
      "cell_type": "markdown",
      "metadata": {
        "id": "zsIEVqkgiXcY"
      },
      "source": [
        "## Reductions Review\n",
        "\n",
        "- Reductions allow us to perform efficient aggregations over arrays.\n",
        "- We can do aggregations over a single axis to collapse a single dimension.\n",
        "- Many built-in reductions (`mean`, `sum`, `min`, `max`, `median`, ...)."
      ]
    },
    {
      "cell_type": "markdown",
      "metadata": {
        "id": "hvqRiy2qiXcZ"
      },
      "source": [
        "# Broadcasting"
      ]
    },
    {
      "cell_type": "code",
      "execution_count": 77,
      "metadata": {
        "id": "OyIDakdiiXcZ",
        "outputId": "df4d8a50-60d9-436d-9170-8b0aceeadaa1",
        "colab": {
          "base_uri": "https://localhost:8080/"
        }
      },
      "outputs": [
        {
          "output_type": "stream",
          "name": "stdout",
          "text": [
            "Row:\n",
            "[1 2 3 4]\n",
            "Column:\n",
            "[[1]\n",
            " [2]\n",
            " [3]]\n"
          ]
        }
      ],
      "source": [
        "row = np.array([1, 2, 3, 4])\n",
        "column = np.array([[1], [2], [3]])\n",
        "print(\"Row:\\n\", row, sep='')\n",
        "print(\"Column:\\n\", column, sep='')"
      ]
    },
    {
      "cell_type": "code",
      "execution_count": 78,
      "metadata": {
        "id": "Dej4wsX-iXcZ",
        "outputId": "dc4c8e1b-5492-473e-b071-653f8aab2467",
        "colab": {
          "base_uri": "https://localhost:8080/"
        }
      },
      "outputs": [
        {
          "output_type": "execute_result",
          "data": {
            "text/plain": [
              "array([[2, 3, 4, 5],\n",
              "       [3, 4, 5, 6],\n",
              "       [4, 5, 6, 7]])"
            ]
          },
          "metadata": {},
          "execution_count": 78
        }
      ],
      "source": [
        "row + column"
      ]
    },
    {
      "cell_type": "markdown",
      "metadata": {
        "id": "tMdSsqXfiXcZ"
      },
      "source": [
        "<center><img src=\"https://raw.githubusercontent.com/ssanderson/pydata-toolbox/master/notebooks/images/broadcasting.png\" alt=\"Drawing\" style=\"width: 60%;\"/></center>\n",
        "\n",
        "<h5>Source: http://www.scipy-lectures.org/_images/numpy_broadcasting.png</h5>"
      ]
    },
    {
      "cell_type": "code",
      "execution_count": 79,
      "metadata": {
        "id": "JVLNvazIiXcZ",
        "outputId": "e9bb3f83-ce8e-4d6a-cb79-75d3a9a3edfe",
        "colab": {
          "base_uri": "https://localhost:8080/"
        }
      },
      "outputs": [
        {
          "output_type": "stream",
          "name": "stdout",
          "text": [
            "Data:\n",
            "[[ 0  1  2  3  4  5  6  7  8  9]\n",
            " [10 11 12 13 14 15 16 17 18 19]\n",
            " [20 21 22 23 24 25 26 27 28 29]]\n",
            "Mean:\n",
            "[10. 11. 12. 13. 14. 15. 16. 17. 18. 19.]\n",
            "Data - Mean:\n",
            "[[-10. -10. -10. -10. -10. -10. -10. -10. -10. -10.]\n",
            " [  0.   0.   0.   0.   0.   0.   0.   0.   0.   0.]\n",
            " [ 10.  10.  10.  10.  10.  10.  10.  10.  10.  10.]]\n"
          ]
        }
      ],
      "source": [
        "# Broadcasting is particularly useful in conjunction with reductions.\n",
        "print(\"Data:\\n\", data, sep='')\n",
        "print(\"Mean:\\n\", data.mean(axis=0), sep='')\n",
        "print(\"Data - Mean:\\n\", data - data.mean(axis=0), sep='')"
      ]
    },
    {
      "cell_type": "markdown",
      "metadata": {
        "id": "JHmGF_mGiXcZ"
      },
      "source": [
        "# Broadcasting Review\n",
        "\n",
        "- Numpy operations can work on arrays of different dimensions as long as the arrays' shapes are still \"compatible\".\n",
        "- Broadcasting works by \"tiling\" the smaller array along the missing dimension.\n",
        "- The result of a broadcasted operation is always at least as large in each dimension as the largest array in that dimension."
      ]
    },
    {
      "cell_type": "markdown",
      "metadata": {
        "id": "Tmy_pKVniXca"
      },
      "source": [
        "# Numpy Review"
      ]
    },
    {
      "cell_type": "markdown",
      "metadata": {
        "id": "TiKskIDqiXca"
      },
      "source": [
        "- Numerical algorithms are slow in pure Python because the overhead dynamic dispatch dominates our runtime."
      ]
    },
    {
      "cell_type": "markdown",
      "metadata": {
        "id": "WRex_YahiXca"
      },
      "source": [
        "- Numpy solves this problem by:\n",
        "  1. Imposing additional restrictions on the contents of arrays.\n",
        "  2. Moving the inner loops of our algorithms into compiled C code."
      ]
    },
    {
      "cell_type": "markdown",
      "metadata": {
        "id": "HHcs1cowiXca"
      },
      "source": [
        "- Using Numpy effectively often requires reworking an algorithms to use vectorized operations instead of for-loops, but the resulting operations are usually simpler, clearer, and faster than the pure Python equivalent."
      ]
    },
    {
      "cell_type": "markdown",
      "metadata": {
        "id": "GoPdOSfSiXca"
      },
      "source": [
        "<center><img src=\"https://raw.githubusercontent.com/ssanderson/pydata-toolbox/master/notebooks/images/unicorn.jpg\" alt=\"Drawing\" style=\"width: 75%;\"/></center>"
      ]
    },
    {
      "cell_type": "markdown",
      "metadata": {
        "id": "GqyHpT0DiXca"
      },
      "source": [
        "Numpy is great for many things, but..."
      ]
    },
    {
      "cell_type": "markdown",
      "metadata": {
        "id": "t2pSdZyeiXca"
      },
      "source": [
        "- Sometimes our data is equipped with a natural set of **labels**:\n",
        "  - Dates/Times\n",
        "  - Stock Tickers\n",
        "  - Field Names (e.g. Open/High/Low/Close)"
      ]
    },
    {
      "cell_type": "markdown",
      "metadata": {
        "id": "eQkbld3YiXca"
      },
      "source": [
        "- Sometimes we have **more than one type of data** that we want to keep grouped together.\n",
        "  - Tables with a mix of real-valued and categorical data."
      ]
    },
    {
      "cell_type": "markdown",
      "metadata": {
        "id": "FUUCEShmiXcb"
      },
      "source": [
        "- Sometimes we have **missing** data, which we need to ignore, fill, or otherwise work around."
      ]
    },
    {
      "cell_type": "markdown",
      "metadata": {
        "id": "7BErgdXjiXcb"
      },
      "source": [
        "<center><img src=\"https://raw.githubusercontent.com/ssanderson/pydata-toolbox/master/notebooks/images/panda-wrangling.gif\" alt=\"Drawing\" style=\"width: 75%;\"/></center>"
      ]
    },
    {
      "cell_type": "markdown",
      "metadata": {
        "id": "B-LuFQ2BiXcb"
      },
      "source": [
        "<center><img src=\"https://raw.githubusercontent.com/ssanderson/pydata-toolbox/master/notebooks/images/pandas_logo.png\" alt=\"Drawing\" style=\"width: 75%;\"/></center>\n"
      ]
    },
    {
      "cell_type": "markdown",
      "metadata": {
        "id": "B8Hv2pY4iXcb"
      },
      "source": [
        "Pandas extends Numpy with more complex data structures:\n",
        "\n",
        "- `Series`: 1-dimensional, homogenously-typed, labelled array.\n",
        "- `DataFrame`: 2-dimensional, semi-homogenous, labelled table."
      ]
    },
    {
      "cell_type": "markdown",
      "metadata": {
        "id": "xYDFME14iXcb"
      },
      "source": [
        "Pandas also provides many utilities for: \n",
        "- Input/Output\n",
        "- Data Cleaning\n",
        "- Rolling Algorithms\n",
        "- Plotting"
      ]
    },
    {
      "cell_type": "markdown",
      "metadata": {
        "id": "uOvK2ZfeiXcb"
      },
      "source": [
        "# Selection in Pandas"
      ]
    },
    {
      "cell_type": "code",
      "execution_count": 80,
      "metadata": {
        "id": "G6ploxoOiXcb",
        "outputId": "9a76dc5c-7691-4602-8c06-65c589dce8d5",
        "colab": {
          "base_uri": "https://localhost:8080/"
        }
      },
      "outputs": [
        {
          "output_type": "execute_result",
          "data": {
            "text/plain": [
              "a    1\n",
              "b    2\n",
              "c    3\n",
              "d    4\n",
              "e    5\n",
              "dtype: int64"
            ]
          },
          "metadata": {},
          "execution_count": 80
        }
      ],
      "source": [
        "s = pd.Series(index=['a', 'b', 'c', 'd', 'e'], data=[1, 2, 3, 4, 5])\n",
        "s"
      ]
    },
    {
      "cell_type": "code",
      "execution_count": 81,
      "metadata": {
        "id": "PU-7iKpqiXcc",
        "outputId": "64d93c36-46d9-40e9-e9f5-a4588a3359e1",
        "colab": {
          "base_uri": "https://localhost:8080/"
        }
      },
      "outputs": [
        {
          "output_type": "stream",
          "name": "stdout",
          "text": [
            "The index is: Index(['a', 'b', 'c', 'd', 'e'], dtype='object')\n",
            "The values are: [1 2 3 4 5]\n"
          ]
        }
      ],
      "source": [
        "# There are two pieces to a Series: the index and the values.\n",
        "print(\"The index is:\", s.index)\n",
        "print(\"The values are:\", s.values)"
      ]
    },
    {
      "cell_type": "code",
      "execution_count": 82,
      "metadata": {
        "id": "pUnHyGr5iXcc",
        "outputId": "31fbd7e5-d08c-4019-c7f9-9617061bd064",
        "colab": {
          "base_uri": "https://localhost:8080/"
        }
      },
      "outputs": [
        {
          "output_type": "execute_result",
          "data": {
            "text/plain": [
              "1"
            ]
          },
          "metadata": {},
          "execution_count": 82
        }
      ],
      "source": [
        "# We can look up values out of a Series by position...\n",
        "s.iloc[0]"
      ]
    },
    {
      "cell_type": "code",
      "execution_count": 83,
      "metadata": {
        "id": "IyM3qqygiXcc",
        "outputId": "8cb52bcf-4af3-4c18-9231-119f86be06f4",
        "colab": {
          "base_uri": "https://localhost:8080/"
        }
      },
      "outputs": [
        {
          "output_type": "execute_result",
          "data": {
            "text/plain": [
              "1"
            ]
          },
          "metadata": {},
          "execution_count": 83
        }
      ],
      "source": [
        "# ... or by label.\n",
        "s.loc['a']"
      ]
    },
    {
      "cell_type": "code",
      "execution_count": 84,
      "metadata": {
        "id": "JrCItQtiiXcc",
        "outputId": "814dc60e-dd85-4849-984a-03208e8dffd8",
        "colab": {
          "base_uri": "https://localhost:8080/"
        }
      },
      "outputs": [
        {
          "output_type": "execute_result",
          "data": {
            "text/plain": [
              "a    1\n",
              "b    2\n",
              "dtype: int64"
            ]
          },
          "metadata": {},
          "execution_count": 84
        }
      ],
      "source": [
        "# Slicing works as expected...\n",
        "s.iloc[:2]"
      ]
    },
    {
      "cell_type": "code",
      "execution_count": 85,
      "metadata": {
        "id": "tzTbbk9YiXcc",
        "outputId": "e29d588c-5ae8-4ebe-d6c4-f9fbf691ce0e",
        "colab": {
          "base_uri": "https://localhost:8080/"
        }
      },
      "outputs": [
        {
          "output_type": "execute_result",
          "data": {
            "text/plain": [
              "a    1\n",
              "b    2\n",
              "c    3\n",
              "dtype: int64"
            ]
          },
          "metadata": {},
          "execution_count": 85
        }
      ],
      "source": [
        "# ...but it works with labels too!\n",
        "s.loc[:'c']"
      ]
    },
    {
      "cell_type": "code",
      "execution_count": 86,
      "metadata": {
        "id": "qrVQ0b0ziXcd",
        "outputId": "042baa70-b820-4611-bc95-9c6ea7b2af39",
        "colab": {
          "base_uri": "https://localhost:8080/"
        }
      },
      "outputs": [
        {
          "output_type": "execute_result",
          "data": {
            "text/plain": [
              "a    1\n",
              "e    5\n",
              "dtype: int64"
            ]
          },
          "metadata": {},
          "execution_count": 86
        }
      ],
      "source": [
        "# Fancy indexing works the same as in numpy.\n",
        "s.iloc[[0, -1]]"
      ]
    },
    {
      "cell_type": "code",
      "execution_count": 87,
      "metadata": {
        "id": "THswhsDLiXcd",
        "outputId": "a65af9b9-339f-47f4-f05c-3d4f0e3468b9",
        "colab": {
          "base_uri": "https://localhost:8080/"
        }
      },
      "outputs": [
        {
          "output_type": "execute_result",
          "data": {
            "text/plain": [
              "c    3\n",
              "d    4\n",
              "e    5\n",
              "dtype: int64"
            ]
          },
          "metadata": {},
          "execution_count": 87
        }
      ],
      "source": [
        "# As does boolean masking.\n",
        "s.loc[s > 2]"
      ]
    },
    {
      "cell_type": "code",
      "execution_count": 88,
      "metadata": {
        "id": "nYGjpHaIiXcd",
        "outputId": "b4f5fc04-697e-43f6-a477-2b7bbadb84c9",
        "colab": {
          "base_uri": "https://localhost:8080/"
        }
      },
      "outputs": [
        {
          "output_type": "execute_result",
          "data": {
            "text/plain": [
              "a    10.0\n",
              "c    20.0\n",
              "d    30.0\n",
              "z    40.0\n",
              "dtype: float64"
            ]
          },
          "metadata": {},
          "execution_count": 88
        }
      ],
      "source": [
        "# Element-wise operations are aligned by index.\n",
        "other_s = pd.Series({'a': 10.0, 'c': 20.0, 'd': 30.0, 'z': 40.0})\n",
        "other_s"
      ]
    },
    {
      "cell_type": "code",
      "execution_count": 89,
      "metadata": {
        "id": "nkK07CuEiXcd",
        "outputId": "3a52c15f-8da2-433e-bfd5-b0dd827d0393",
        "colab": {
          "base_uri": "https://localhost:8080/"
        }
      },
      "outputs": [
        {
          "output_type": "execute_result",
          "data": {
            "text/plain": [
              "a    11.0\n",
              "b     NaN\n",
              "c    23.0\n",
              "d    34.0\n",
              "e     NaN\n",
              "z     NaN\n",
              "dtype: float64"
            ]
          },
          "metadata": {},
          "execution_count": 89
        }
      ],
      "source": [
        "s + other_s"
      ]
    },
    {
      "cell_type": "code",
      "execution_count": 90,
      "metadata": {
        "id": "pePOoBl3iXcd",
        "outputId": "b5d75ddc-92cd-4fe8-8bcd-685ad570778a",
        "colab": {
          "base_uri": "https://localhost:8080/"
        }
      },
      "outputs": [
        {
          "output_type": "execute_result",
          "data": {
            "text/plain": [
              "a    11.0\n",
              "b     0.0\n",
              "c    23.0\n",
              "d    34.0\n",
              "e     0.0\n",
              "z     0.0\n",
              "dtype: float64"
            ]
          },
          "metadata": {},
          "execution_count": 90
        }
      ],
      "source": [
        "# We can fill in missing values with fillna().\n",
        "(s + other_s).fillna(0.0)"
      ]
    },
    {
      "cell_type": "code",
      "execution_count": null,
      "metadata": {
        "id": "8LYqk1oDiXcd"
      },
      "outputs": [],
      "source": [
        "# Most real datasets are read in from an external file format.\n",
        "aapl = pd.read_csv('AAPL.csv', parse_dates=['Date'], index_col='Date')\n",
        "aapl.head()"
      ]
    },
    {
      "cell_type": "code",
      "execution_count": null,
      "metadata": {
        "id": "JasJjximiXcd"
      },
      "outputs": [],
      "source": [
        "# Slicing generalizes to two dimensions as you'd expect:\n",
        "aapl.iloc[:2, :2]"
      ]
    },
    {
      "cell_type": "code",
      "execution_count": null,
      "metadata": {
        "id": "aAnXEGHMiXce"
      },
      "outputs": [],
      "source": [
        "aapl.loc[pd.Timestamp('2010-02-01'):pd.Timestamp('2010-02-04'), ['Close', 'Volume']]"
      ]
    },
    {
      "cell_type": "markdown",
      "metadata": {
        "id": "Up935r8GiXce"
      },
      "source": [
        "# Rolling Operations"
      ]
    },
    {
      "cell_type": "markdown",
      "metadata": {
        "id": "28dFZSZmiXce"
      },
      "source": [
        "<center><img src=\"https://raw.githubusercontent.com/ssanderson/pydata-toolbox/master/notebooks/images/rolling.gif\" alt=\"Drawing\" style=\"width: 75%;\"/></center>"
      ]
    },
    {
      "cell_type": "code",
      "execution_count": null,
      "metadata": {
        "id": "-YvkXxL0iXce"
      },
      "outputs": [],
      "source": [
        "aapl.rolling(5)[['Close', 'Adj Close']].mean().plot();"
      ]
    },
    {
      "cell_type": "code",
      "execution_count": null,
      "metadata": {
        "id": "HKynE6AMiXce"
      },
      "outputs": [],
      "source": [
        "# Drop `Volume`, since it's way bigger than everything else.\n",
        "aapl.drop('Volume', axis=1).resample('2W').max().plot();"
      ]
    },
    {
      "cell_type": "code",
      "execution_count": null,
      "metadata": {
        "id": "ayoPHapZiXce"
      },
      "outputs": [],
      "source": [
        "# 30-day rolling exponentially-weighted stddev of returns.\n",
        "aapl['Close'].pct_change().ewm(span=30).std().plot();"
      ]
    },
    {
      "cell_type": "markdown",
      "metadata": {
        "id": "npT_ZgpYiXce"
      },
      "source": [
        "# \"Real World\" Data"
      ]
    },
    {
      "cell_type": "code",
      "execution_count": null,
      "metadata": {
        "id": "XcYC7BGAiXcf"
      },
      "outputs": [],
      "source": [
        "from demos.avocados import read_avocadata\n",
        "\n",
        "avocados = read_avocadata('2014', '2016')\n",
        "avocados.head()"
      ]
    },
    {
      "cell_type": "code",
      "execution_count": null,
      "metadata": {
        "id": "tjk0EsEsiXcf"
      },
      "outputs": [],
      "source": [
        "# Unlike numpy arrays, pandas DataFrames can have a different dtype for each column.\n",
        "avocados.dtypes"
      ]
    },
    {
      "cell_type": "code",
      "execution_count": null,
      "metadata": {
        "id": "YcpqjQCdiXcf"
      },
      "outputs": [],
      "source": [
        "# What's the regional average price of a HASS avocado every day?\n",
        "hass = avocados[avocados.Variety == 'HASS']\n",
        "hass.groupby(['Date', 'Region'])['Weighted Avg Price'].mean().unstack().ffill().plot();"
      ]
    },
    {
      "cell_type": "code",
      "execution_count": null,
      "metadata": {
        "collapsed": true,
        "id": "k1Zdnr4jiXcf"
      },
      "outputs": [],
      "source": [
        "def _organic_spread(group):\n",
        "\n",
        "    if len(group.columns) != 2:\n",
        "        return pd.Series(index=group.index, data=0.0)\n",
        "    \n",
        "    is_organic = group.columns.get_level_values('Organic').values.astype(bool)\n",
        "    organics = group.loc[:, is_organic].squeeze()\n",
        "    non_organics = group.loc[:, ~is_organic].squeeze()\n",
        "    diff = organics - non_organics\n",
        "    return diff\n",
        "\n",
        "def organic_spread_by_region(df):\n",
        "    \"\"\"What's the difference between the price of an organic \n",
        "    and non-organic avocado within each region?\n",
        "    \"\"\"\n",
        "    return (\n",
        "        df\n",
        "        .set_index(['Date', 'Region', 'Organic'])\n",
        "         ['Weighted Avg Price']\n",
        "        .unstack(level=['Region', 'Organic'])\n",
        "        .ffill()\n",
        "        .groupby(level='Region', axis=1)\n",
        "        .apply(_organic_spread)\n",
        "    )"
      ]
    },
    {
      "cell_type": "code",
      "execution_count": null,
      "metadata": {
        "id": "iU-Th92BiXcf"
      },
      "outputs": [],
      "source": [
        "organic_spread_by_region(hass).plot();\n",
        "plt.gca().set_title(\"Daily Regional Organic Spread\");\n",
        "plt.legend(bbox_to_anchor=(1, 1));"
      ]
    },
    {
      "cell_type": "code",
      "execution_count": null,
      "metadata": {
        "id": "vjR02HpEiXcg"
      },
      "outputs": [],
      "source": [
        "spread_correlation = organic_spread_by_region(hass).corr()\n",
        "spread_correlation"
      ]
    },
    {
      "cell_type": "code",
      "execution_count": null,
      "metadata": {
        "id": "-fbKjqw6iXcg"
      },
      "outputs": [],
      "source": [
        "import seaborn as sns\n",
        "grid = sns.clustermap(spread_correlation, annot=True)\n",
        "fig = grid.fig\n",
        "axes = fig.axes\n",
        "ax = axes[2]\n",
        "ax.set_xticklabels(ax.get_xticklabels(), rotation=45);"
      ]
    },
    {
      "cell_type": "markdown",
      "metadata": {
        "id": "-6jsBAhQiXcg"
      },
      "source": [
        "# Pandas Review\n",
        "\n",
        "- Pandas extends numpy with more complex datastructures and algorithms.\n",
        "- If you understand numpy, you understand 90% of pandas.\n",
        "- `groupby`, `set_index`, and `unstack` are powerful tools for working with categorical data.\n",
        "- Avocado prices are surprisingly interesting :)"
      ]
    },
    {
      "cell_type": "markdown",
      "metadata": {
        "id": "_u_fG58UiXcg"
      },
      "source": [
        "# Thanks!"
      ]
    }
  ],
  "metadata": {
    "celltoolbar": "Slideshow",
    "kernelspec": {
      "display_name": "Python 3",
      "language": "python",
      "name": "python3"
    },
    "language_info": {
      "codemirror_mode": {
        "name": "ipython",
        "version": 3
      },
      "file_extension": ".py",
      "mimetype": "text/x-python",
      "name": "python",
      "nbconvert_exporter": "python",
      "pygments_lexer": "ipython3",
      "version": "3.5.2"
    },
    "livereveal": {
      "start_slideshow_at": "selected"
    },
    "name": "Main.ipynb",
    "colab": {
      "provenance": [],
      "collapsed_sections": [
        "gh1Uw4KtiXcK",
        "K81LXWsCiXcS",
        "9EsiKbSCiXcT",
        "zsIEVqkgiXcY",
        "JHmGF_mGiXcZ",
        "-6jsBAhQiXcg",
        "_u_fG58UiXcg"
      ],
      "include_colab_link": true
    }
  },
  "nbformat": 4,
  "nbformat_minor": 0
}