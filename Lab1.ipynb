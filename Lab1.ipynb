{
  "nbformat": 4,
  "nbformat_minor": 0,
  "metadata": {
    "colab": {
      "provenance": [],
      "authorship_tag": "ABX9TyNpYPXAKtL5QNiGBR+VOVMx",
      "include_colab_link": true
    },
    "kernelspec": {
      "name": "python3",
      "display_name": "Python 3"
    },
    "language_info": {
      "name": "python"
    }
  },
  "cells": [
    {
      "cell_type": "markdown",
      "metadata": {
        "id": "view-in-github",
        "colab_type": "text"
      },
      "source": [
        "<a href=\"https://colab.research.google.com/github/JuanXo375/AlgorithmsUN2022II/blob/main/Lab1.ipynb\" target=\"_parent\"><img src=\"https://colab.research.google.com/assets/colab-badge.svg\" alt=\"Open In Colab\"/></a>"
      ]
    },
    {
      "cell_type": "markdown",
      "source": [
        "#**Colab Yahoo Introduction to the Research Environment**\n",
        "\n",
        "---\n",
        "\n"
      ],
      "metadata": {
        "id": "aGG7slLfMhzh"
      }
    },
    {
      "cell_type": "code",
      "execution_count": null,
      "metadata": {
        "id": "68n6PapoMgI3"
      },
      "outputs": [],
      "source": [
        "!pip install yfinance\n",
        "import numpy as np\n",
        "import matplotlib.pyplot as plt\n",
        "import yfinance as yf"
      ]
    },
    {
      "cell_type": "code",
      "source": [
        "data = yf.download(\"MSFT\", start=\"2022-1-1\", end=\"2022-12-31\") \n",
        "data"
      ],
      "metadata": {
        "id": "h8OJaYJJhxj1",
        "outputId": "fc8775e0-072c-4f7b-b977-25e49411eb04",
        "colab": {
          "base_uri": "https://localhost:8080/",
          "height": 472
        }
      },
      "execution_count": 18,
      "outputs": [
        {
          "output_type": "stream",
          "name": "stdout",
          "text": [
            "\r[*********************100%***********************]  1 of 1 completed\n"
          ]
        },
        {
          "output_type": "execute_result",
          "data": {
            "text/plain": [
              "                  Open        High         Low       Close   Adj Close  \\\n",
              "Date                                                                     \n",
              "2022-01-03  335.350006  338.000000  329.779999  334.750000  331.642456   \n",
              "2022-01-04  334.829987  335.200012  326.119995  329.010010  325.955780   \n",
              "2022-01-05  325.859985  326.070007  315.980011  316.380005  313.443024   \n",
              "2022-01-06  313.149994  318.700012  311.489990  313.880005  310.966217   \n",
              "2022-01-07  314.149994  316.500000  310.089996  314.040009  311.124695   \n",
              "...                ...         ...         ...         ...         ...   \n",
              "2022-12-23  236.110001  238.869995  233.940002  238.729996  238.729996   \n",
              "2022-12-27  238.699997  238.929993  235.830002  236.960007  236.960007   \n",
              "2022-12-28  236.889999  239.720001  234.169998  234.529999  234.529999   \n",
              "2022-12-29  235.649994  241.919998  235.649994  241.009995  241.009995   \n",
              "2022-12-30  238.210007  239.960007  236.660004  239.820007  239.820007   \n",
              "\n",
              "              Volume  \n",
              "Date                  \n",
              "2022-01-03  28865100  \n",
              "2022-01-04  32674300  \n",
              "2022-01-05  40054300  \n",
              "2022-01-06  39646100  \n",
              "2022-01-07  32720000  \n",
              "...              ...  \n",
              "2022-12-23  21207000  \n",
              "2022-12-27  16688600  \n",
              "2022-12-28  17457100  \n",
              "2022-12-29  19770700  \n",
              "2022-12-30  21930800  \n",
              "\n",
              "[251 rows x 6 columns]"
            ],
            "text/html": [
              "\n",
              "  <div id=\"df-17f692b2-031d-490f-9176-440de0906d09\">\n",
              "    <div class=\"colab-df-container\">\n",
              "      <div>\n",
              "<style scoped>\n",
              "    .dataframe tbody tr th:only-of-type {\n",
              "        vertical-align: middle;\n",
              "    }\n",
              "\n",
              "    .dataframe tbody tr th {\n",
              "        vertical-align: top;\n",
              "    }\n",
              "\n",
              "    .dataframe thead th {\n",
              "        text-align: right;\n",
              "    }\n",
              "</style>\n",
              "<table border=\"1\" class=\"dataframe\">\n",
              "  <thead>\n",
              "    <tr style=\"text-align: right;\">\n",
              "      <th></th>\n",
              "      <th>Open</th>\n",
              "      <th>High</th>\n",
              "      <th>Low</th>\n",
              "      <th>Close</th>\n",
              "      <th>Adj Close</th>\n",
              "      <th>Volume</th>\n",
              "    </tr>\n",
              "    <tr>\n",
              "      <th>Date</th>\n",
              "      <th></th>\n",
              "      <th></th>\n",
              "      <th></th>\n",
              "      <th></th>\n",
              "      <th></th>\n",
              "      <th></th>\n",
              "    </tr>\n",
              "  </thead>\n",
              "  <tbody>\n",
              "    <tr>\n",
              "      <th>2022-01-03</th>\n",
              "      <td>335.350006</td>\n",
              "      <td>338.000000</td>\n",
              "      <td>329.779999</td>\n",
              "      <td>334.750000</td>\n",
              "      <td>331.642456</td>\n",
              "      <td>28865100</td>\n",
              "    </tr>\n",
              "    <tr>\n",
              "      <th>2022-01-04</th>\n",
              "      <td>334.829987</td>\n",
              "      <td>335.200012</td>\n",
              "      <td>326.119995</td>\n",
              "      <td>329.010010</td>\n",
              "      <td>325.955780</td>\n",
              "      <td>32674300</td>\n",
              "    </tr>\n",
              "    <tr>\n",
              "      <th>2022-01-05</th>\n",
              "      <td>325.859985</td>\n",
              "      <td>326.070007</td>\n",
              "      <td>315.980011</td>\n",
              "      <td>316.380005</td>\n",
              "      <td>313.443024</td>\n",
              "      <td>40054300</td>\n",
              "    </tr>\n",
              "    <tr>\n",
              "      <th>2022-01-06</th>\n",
              "      <td>313.149994</td>\n",
              "      <td>318.700012</td>\n",
              "      <td>311.489990</td>\n",
              "      <td>313.880005</td>\n",
              "      <td>310.966217</td>\n",
              "      <td>39646100</td>\n",
              "    </tr>\n",
              "    <tr>\n",
              "      <th>2022-01-07</th>\n",
              "      <td>314.149994</td>\n",
              "      <td>316.500000</td>\n",
              "      <td>310.089996</td>\n",
              "      <td>314.040009</td>\n",
              "      <td>311.124695</td>\n",
              "      <td>32720000</td>\n",
              "    </tr>\n",
              "    <tr>\n",
              "      <th>...</th>\n",
              "      <td>...</td>\n",
              "      <td>...</td>\n",
              "      <td>...</td>\n",
              "      <td>...</td>\n",
              "      <td>...</td>\n",
              "      <td>...</td>\n",
              "    </tr>\n",
              "    <tr>\n",
              "      <th>2022-12-23</th>\n",
              "      <td>236.110001</td>\n",
              "      <td>238.869995</td>\n",
              "      <td>233.940002</td>\n",
              "      <td>238.729996</td>\n",
              "      <td>238.729996</td>\n",
              "      <td>21207000</td>\n",
              "    </tr>\n",
              "    <tr>\n",
              "      <th>2022-12-27</th>\n",
              "      <td>238.699997</td>\n",
              "      <td>238.929993</td>\n",
              "      <td>235.830002</td>\n",
              "      <td>236.960007</td>\n",
              "      <td>236.960007</td>\n",
              "      <td>16688600</td>\n",
              "    </tr>\n",
              "    <tr>\n",
              "      <th>2022-12-28</th>\n",
              "      <td>236.889999</td>\n",
              "      <td>239.720001</td>\n",
              "      <td>234.169998</td>\n",
              "      <td>234.529999</td>\n",
              "      <td>234.529999</td>\n",
              "      <td>17457100</td>\n",
              "    </tr>\n",
              "    <tr>\n",
              "      <th>2022-12-29</th>\n",
              "      <td>235.649994</td>\n",
              "      <td>241.919998</td>\n",
              "      <td>235.649994</td>\n",
              "      <td>241.009995</td>\n",
              "      <td>241.009995</td>\n",
              "      <td>19770700</td>\n",
              "    </tr>\n",
              "    <tr>\n",
              "      <th>2022-12-30</th>\n",
              "      <td>238.210007</td>\n",
              "      <td>239.960007</td>\n",
              "      <td>236.660004</td>\n",
              "      <td>239.820007</td>\n",
              "      <td>239.820007</td>\n",
              "      <td>21930800</td>\n",
              "    </tr>\n",
              "  </tbody>\n",
              "</table>\n",
              "<p>251 rows × 6 columns</p>\n",
              "</div>\n",
              "      <button class=\"colab-df-convert\" onclick=\"convertToInteractive('df-17f692b2-031d-490f-9176-440de0906d09')\"\n",
              "              title=\"Convert this dataframe to an interactive table.\"\n",
              "              style=\"display:none;\">\n",
              "        \n",
              "  <svg xmlns=\"http://www.w3.org/2000/svg\" height=\"24px\"viewBox=\"0 0 24 24\"\n",
              "       width=\"24px\">\n",
              "    <path d=\"M0 0h24v24H0V0z\" fill=\"none\"/>\n",
              "    <path d=\"M18.56 5.44l.94 2.06.94-2.06 2.06-.94-2.06-.94-.94-2.06-.94 2.06-2.06.94zm-11 1L8.5 8.5l.94-2.06 2.06-.94-2.06-.94L8.5 2.5l-.94 2.06-2.06.94zm10 10l.94 2.06.94-2.06 2.06-.94-2.06-.94-.94-2.06-.94 2.06-2.06.94z\"/><path d=\"M17.41 7.96l-1.37-1.37c-.4-.4-.92-.59-1.43-.59-.52 0-1.04.2-1.43.59L10.3 9.45l-7.72 7.72c-.78.78-.78 2.05 0 2.83L4 21.41c.39.39.9.59 1.41.59.51 0 1.02-.2 1.41-.59l7.78-7.78 2.81-2.81c.8-.78.8-2.07 0-2.86zM5.41 20L4 18.59l7.72-7.72 1.47 1.35L5.41 20z\"/>\n",
              "  </svg>\n",
              "      </button>\n",
              "      \n",
              "  <style>\n",
              "    .colab-df-container {\n",
              "      display:flex;\n",
              "      flex-wrap:wrap;\n",
              "      gap: 12px;\n",
              "    }\n",
              "\n",
              "    .colab-df-convert {\n",
              "      background-color: #E8F0FE;\n",
              "      border: none;\n",
              "      border-radius: 50%;\n",
              "      cursor: pointer;\n",
              "      display: none;\n",
              "      fill: #1967D2;\n",
              "      height: 32px;\n",
              "      padding: 0 0 0 0;\n",
              "      width: 32px;\n",
              "    }\n",
              "\n",
              "    .colab-df-convert:hover {\n",
              "      background-color: #E2EBFA;\n",
              "      box-shadow: 0px 1px 2px rgba(60, 64, 67, 0.3), 0px 1px 3px 1px rgba(60, 64, 67, 0.15);\n",
              "      fill: #174EA6;\n",
              "    }\n",
              "\n",
              "    [theme=dark] .colab-df-convert {\n",
              "      background-color: #3B4455;\n",
              "      fill: #D2E3FC;\n",
              "    }\n",
              "\n",
              "    [theme=dark] .colab-df-convert:hover {\n",
              "      background-color: #434B5C;\n",
              "      box-shadow: 0px 1px 3px 1px rgba(0, 0, 0, 0.15);\n",
              "      filter: drop-shadow(0px 1px 2px rgba(0, 0, 0, 0.3));\n",
              "      fill: #FFFFFF;\n",
              "    }\n",
              "  </style>\n",
              "\n",
              "      <script>\n",
              "        const buttonEl =\n",
              "          document.querySelector('#df-17f692b2-031d-490f-9176-440de0906d09 button.colab-df-convert');\n",
              "        buttonEl.style.display =\n",
              "          google.colab.kernel.accessAllowed ? 'block' : 'none';\n",
              "\n",
              "        async function convertToInteractive(key) {\n",
              "          const element = document.querySelector('#df-17f692b2-031d-490f-9176-440de0906d09');\n",
              "          const dataTable =\n",
              "            await google.colab.kernel.invokeFunction('convertToInteractive',\n",
              "                                                     [key], {});\n",
              "          if (!dataTable) return;\n",
              "\n",
              "          const docLinkHtml = 'Like what you see? Visit the ' +\n",
              "            '<a target=\"_blank\" href=https://colab.research.google.com/notebooks/data_table.ipynb>data table notebook</a>'\n",
              "            + ' to learn more about interactive tables.';\n",
              "          element.innerHTML = '';\n",
              "          dataTable['output_type'] = 'display_data';\n",
              "          await google.colab.output.renderOutput(dataTable, element);\n",
              "          const docLink = document.createElement('div');\n",
              "          docLink.innerHTML = docLinkHtml;\n",
              "          element.appendChild(docLink);\n",
              "        }\n",
              "      </script>\n",
              "    </div>\n",
              "  </div>\n",
              "  "
            ]
          },
          "metadata": {},
          "execution_count": 18
        }
      ]
    },
    {
      "cell_type": "code",
      "source": [
        "X = data['Close']\n",
        "plt.plot(X.index, X.values)\n",
        "plt.ylabel('Price')\n",
        "plt.legend(['MSFT']);"
      ],
      "metadata": {
        "id": "elGBoVYXQMF-"
      },
      "execution_count": null,
      "outputs": []
    },
    {
      "cell_type": "code",
      "source": [
        "MAVG = X.rolling(2).mean()\n",
        "plt.plot(MAVG.index, MAVG.values)\n",
        "plt.legend(['MSFT', '60-day MAVG']);"
      ],
      "metadata": {
        "id": "PfHHoKzYifWb"
      },
      "execution_count": null,
      "outputs": []
    },
    {
      "cell_type": "code",
      "source": [
        "np.mean(X)"
      ],
      "metadata": {
        "id": "_HDWouwLQW47"
      },
      "execution_count": null,
      "outputs": []
    },
    {
      "cell_type": "code",
      "source": [
        "np.std(X)"
      ],
      "metadata": {
        "id": "U6sIrohKQY5j"
      },
      "execution_count": null,
      "outputs": []
    },
    {
      "cell_type": "code",
      "source": [
        "R = X.pct_change()[1:]\n",
        "plt.hist(X, bins=20)\n",
        "plt.xlabel('Return')\n",
        "plt.ylabel('Frequency')\n",
        "plt.legend(['MSFT Returns']);"
      ],
      "metadata": {
        "id": "37wRdyCtQPFU",
        "outputId": "e945bac2-12fd-46f7-808c-777449b8b51b",
        "colab": {
          "base_uri": "https://localhost:8080/",
          "height": 279
        }
      },
      "execution_count": 19,
      "outputs": [
        {
          "output_type": "display_data",
          "data": {
            "text/plain": [
              "<Figure size 432x288 with 1 Axes>"
            ],
            "image/png": "[encoded data removed]"
          },
          "metadata": {
            "needs_background": "light"
          }
        }
      ]
    },
    {
      "cell_type": "markdown",
      "source": [
        "#**Introduction to Python**"
      ],
      "metadata": {
        "id": "9lzMyC7CSA5Z"
      }
    },
    {
      "cell_type": "code",
      "source": [
        "def palindrome(word):\n",
        "  pal = word[::-1]\n",
        "  if word==pal:\n",
        "    return True\n",
        "  else:\n",
        "    return False\n",
        "\n",
        "def mostrar(word):\n",
        "  numeros = []\n",
        "  for i in range(21):\n",
        "    numeros.append(i)\n",
        "  if palindrome(word):    \n",
        "    return(numeros[::2])\n",
        "  else:\n",
        "    return(numeros[1::2])\n",
        "\n",
        "def retorno(numeros):\n",
        "  if numeros[0]%2==0:\n",
        "    print(numeros)\n",
        "    print(\"La palabra es palindrome.\")\n",
        "  else:\n",
        "    print(numeros)\n",
        "    print(\"La palabra NO es palindrome.\")\n",
        "\n",
        "retorno(mostrar(\"oso\"))"
      ],
      "metadata": {
        "id": "ci8YpVPvTtNZ",
        "outputId": "b3d63053-fbeb-4447-a0af-44ea10c84856",
        "colab": {
          "base_uri": "https://localhost:8080/"
        }
      },
      "execution_count": 33,
      "outputs": [
        {
          "output_type": "stream",
          "name": "stdout",
          "text": [
            "[1, 3, 5, 7, 9, 11, 13, 15, 17, 19]\n",
            "La palabra NO es palindrome.\n"
          ]
        }
      ]
    }
  ]
}